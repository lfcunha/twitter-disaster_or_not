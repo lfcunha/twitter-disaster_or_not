{
 "cells": [
  {
   "cell_type": "markdown",
   "metadata": {},
   "source": [
    "## In this notebook we will builds models to classify disaster/non-diaster tweets based on LSTM, 1D convolutions, and word embeddings"
   ]
  },
  {
   "cell_type": "code",
   "execution_count": null,
   "metadata": {
    "_cell_guid": "b1076dfc-b9ad-4769-8c92-a6c4dae69d19",
    "_uuid": "8f2839f25d086af736a60e9eeb907d3b93b6e0e5"
   },
   "outputs": [],
   "source": [
    "# This Python 3 environment comes with many helpful analytics libraries installed\n",
    "# It is defined by the kaggle/python docker image: https://github.com/kaggle/docker-python\n",
    "\n",
    "import os\n",
    "for dirname, _, filenames in os.walk('/kaggle/input'):\n",
    "    for filename in filenames:\n",
    "        print(os.path.join(dirname, filename))\n",
    "\n",
    "# Any results you write to the current directory are saved as output."
   ]
  },
  {
   "cell_type": "code",
   "execution_count": null,
   "metadata": {},
   "outputs": [],
   "source": [
    "from shutil import copyfile\n",
    "\n",
    "# copy our file into the working directory (make sure it has .py suffix)\n",
    "copyfile(src = \"../input/utils-file/utils.py\", dst = \"../working/utils.py\")\n",
    "copyfile(src = \"../input/constants/constants.py\", dst = \"../working/constants.py\")"
   ]
  },
  {
   "cell_type": "code",
   "execution_count": null,
   "metadata": {},
   "outputs": [],
   "source": [
    "from subprocess import check_output\n",
    "print(check_output([\"ls\", \"/kaggle/input\"]).decode(\"utf8\"))"
   ]
  },
  {
   "cell_type": "code",
   "execution_count": null,
   "metadata": {},
   "outputs": [],
   "source": [
    "from constants import *\n",
    "from utils import *"
   ]
  },
  {
   "cell_type": "code",
   "execution_count": 159,
   "metadata": {},
   "outputs": [],
   "source": [
    "from inspect import signature\n",
    "import re\n",
    "import string\n",
    "\n",
    "from keras.callbacks.callbacks import EarlyStopping, ModelCheckpoint\n",
    "import matplotlib.pyplot as plt\n",
    "from nltk.corpus import stopwords\n",
    "from nltk.tokenize import TweetTokenizer\n",
    "from nltk.stem.porter import PorterStemmer\n",
    "import numpy as np\n",
    "import pandas as pd\n",
    "from sklearn.metrics import (classification_report, accuracy_score, precision_score, recall_score,\n",
    "                             f1_score, confusion_matrix, roc_curve, auc, precision_recall_curve,\n",
    "                             average_precision_score)\n",
    "from tensorflow.keras.preprocessing.text import Tokenizer\n",
    "from tensorflow.keras.preprocessing.sequence import pad_sequences\n",
    "from tensorflow.keras.utils import to_categorical\n",
    "from tensorflow.keras import regularizers\n",
    "import tensorflow as tf\n",
    "\n",
    "import warnings \n",
    "  \n",
    "warnings.filterwarnings(action = 'ignore') "
   ]
  },
  {
   "cell_type": "code",
   "execution_count": null,
   "metadata": {},
   "outputs": [],
   "source": [
    "%load_ext autoreload\n",
    "%autoreload 2\n",
    "    \n",
    "    \n",
    "from collections import defaultdict\n",
    "import os\n",
    "\n",
    "import matplotlib.image  as mpimg\n",
    "import matplotlib.pyplot as plt\n",
    "\n",
    "import numpy as np\n",
    "import matplotlib.pyplot as plt\n",
    "from nltk.corpus import stopwords\n",
    "from nltk.tokenize import TweetTokenizer\n",
    "from nltk.stem.porter import PorterStemmer\n",
    "import pandas as pd\n",
    "import seaborn as sns\n",
    "import re\n",
    "import string\n",
    "from wordcloud import WordCloud\n",
    "from sklearn.feature_extraction.text import TfidfTransformer, CountVectorizer\n",
    "\n",
    "from multiprocessing import Pool\n",
    "import os\n",
    "from inspect import signature\n",
    "import sys\n",
    "\n",
    "import matplotlib\n",
    "import matplotlib.pyplot as plt\n",
    "import matplotlib.patches as mpatches\n",
    "import numpy as np\n",
    "import pandas as pd\n",
    "\n",
    "from nltk.tokenize import sent_tokenize, word_tokenize \n",
    "\n",
    "import pandas as pd\n",
    "from sklearn import feature_extraction, linear_model, model_selection, preprocessing\n",
    "from sklearn.feature_extraction.text import TfidfTransformer, CountVectorizer, TfidfVectorizer\n",
    "from sklearn.manifold import TSNE\n",
    "from sklearn.metrics import (classification_report, accuracy_score, precision_score, recall_score,\n",
    "                             f1_score, confusion_matrix, roc_curve, auc, precision_recall_curve,\n",
    "                             average_precision_score)\n",
    "from sklearn.model_selection import train_test_split\n",
    "from sklearn.naive_bayes import BernoulliNB\n",
    "from sklearn.pipeline import Pipeline\n",
    "from sklearn.decomposition import PCA, TruncatedSVD\n",
    "\n",
    "import seaborn as sns\n",
    "\n",
    "\n",
    "import warnings \n",
    "  \n",
    "warnings.filterwarnings(action = 'ignore') \n",
    "  \n",
    "import gensim \n",
    "from gensim.models import Word2Vec "
   ]
  },
  {
   "cell_type": "code",
   "execution_count": null,
   "metadata": {
    "_cell_guid": "79c7e3d0-c299-4dcb-8224-4455121ee9b0",
    "_uuid": "d629ff2d2480ee46fbb7e2d37f6b5fab8052498a"
   },
   "outputs": [],
   "source": [
    "# # Set your own project id here\n",
    "# PROJECT_ID = 'your-google-cloud-project'\n",
    "# from google.cloud import bigquery\n",
    "# bigquery_client = bigquery.Client(project=PROJECT_ID)\n",
    "# from google.cloud import storage\n",
    "# storage_client = storage.Client(project=PROJECT_ID)"
   ]
  },
  {
   "cell_type": "code",
   "execution_count": null,
   "metadata": {},
   "outputs": [],
   "source": []
  },
  {
   "cell_type": "code",
   "execution_count": 78,
   "metadata": {
    "_cell_guid": "",
    "_uuid": ""
   },
   "outputs": [],
   "source": [
    "sample_submission = pd.read_csv(\"../input/nlp-getting-started/sample_submission.csv\")\n",
    "test_df = pd.read_csv(\"../input/nlp-getting-started/test.csv\")\n",
    "train_df = pd.read_csv(\"../input/nlp-getting-started/train.csv\")"
   ]
  },
  {
   "cell_type": "code",
   "execution_count": 79,
   "metadata": {},
   "outputs": [
    {
     "name": "stderr",
     "output_type": "stream",
     "text": [
      "/opt/conda/lib/python3.6/site-packages/ipykernel_launcher.py:1: FutureWarning: Sorting because non-concatenation axis is not aligned. A future version\n",
      "of pandas will change to not sort by default.\n",
      "\n",
      "To accept the future behavior, pass 'sort=False'.\n",
      "\n",
      "To retain the current behavior and silence the warning, pass 'sort=True'.\n",
      "\n",
      "  \"\"\"Entry point for launching an IPython kernel.\n"
     ]
    }
   ],
   "source": [
    "tweets = df=pd.concat([train_df,test_df]).reset_index(drop=True)"
   ]
  },
  {
   "cell_type": "markdown",
   "metadata": {},
   "source": [
    "## The the embeddings \n",
    "\n",
    "Get the GloVe vectors for every word in our tweet corpus"
   ]
  },
  {
   "cell_type": "markdown",
   "metadata": {},
   "source": [
    "**First let's clean up the tweets to remove html markup, urls, stopword, stem the words, and convert all to lower case**"
   ]
  },
  {
   "cell_type": "code",
   "execution_count": 80,
   "metadata": {},
   "outputs": [],
   "source": [
    "table = str.maketrans('', '', string.punctuation)\n",
    "stop_words = stopwords.words('english')\n",
    "tknzr = TweetTokenizer(strip_handles=True, reduce_len=True)\n",
    "porter = PorterStemmer()\n",
    "\n",
    "\n",
    "emoji_pattern = re.compile(\"[\"\n",
    "                           u\"\\U0001F600-\\U0001F64F\"  # emoticons\n",
    "                           u\"\\U0001F300-\\U0001F5FF\"  # symbols & pictographs\n",
    "                           u\"\\U0001F680-\\U0001F6FF\"  # transport & map symbols\n",
    "                           u\"\\U0001F1E0-\\U0001F1FF\"  # flags (iOS)\n",
    "                           u\"\\U00002702-\\U000027B0\"\n",
    "                           u\"\\U000024C2-\\U0001F251\"\n",
    "                           \"]+\", flags=re.UNICODE)\n",
    "\n",
    "def clean_corpus(tweets):\n",
    "    tokens = [\" \".join(tknzr.tokenize(x)) for x in tweets]\n",
    "\n",
    "    stripped = [w.translate(table).lower() for w in tokens]\n",
    "\n",
    "    no_urls = [re.sub(r\"http\\S+\", \"\", x) for x in stripped]\n",
    "\n",
    "    no_html = [re.sub(r'<.*?>', \"\", x) for x in no_urls]\n",
    "\n",
    "    no_emoji = [emoji_pattern.sub(\"\", x) for x in no_html]\n",
    "\n",
    "    stopped = [[w for w in sent.split() if not w in stop_words] for sent in no_emoji]\n",
    "\n",
    "    stemmed = [[porter.stem(word) for word in tokens] for tokens in stopped]\n",
    "\n",
    "    return [\" \".join(words) for words in stemmed]\n",
    "\n",
    "train_corpus = clean_corpus(train_df[\"text\"].values)\n",
    "test_corpus = clean_corpus(test_df[\"text\"].values)\n",
    "corpus = train_corpus + test_corpus"
   ]
  },
  {
   "cell_type": "code",
   "execution_count": 81,
   "metadata": {},
   "outputs": [
    {
     "data": {
      "text/plain": [
       "['deed reason earthquak may allah forgiv us',\n",
       " 'forest fire near la rong sask canada']"
      ]
     },
     "execution_count": 81,
     "metadata": {},
     "output_type": "execute_result"
    }
   ],
   "source": [
    "corpus[:2]"
   ]
  },
  {
   "cell_type": "markdown",
   "metadata": {},
   "source": [
    "**Get the embedding (the vectors representing each word in the tweet corpus)**"
   ]
  },
  {
   "cell_type": "code",
   "execution_count": 82,
   "metadata": {},
   "outputs": [],
   "source": [
    "embedding_dim = 100\n",
    "max_length = 16\n",
    "trunc_type='post'\n",
    "padding_type='post'\n",
    "oov_tok = \"<OOV>\"\n",
    "training_size=160000\n",
    "test_portion=.1"
   ]
  },
  {
   "cell_type": "markdown",
   "metadata": {},
   "source": [
    "**Tokenize the tweets**"
   ]
  },
  {
   "cell_type": "code",
   "execution_count": 83,
   "metadata": {},
   "outputs": [
    {
     "name": "stdout",
     "output_type": "stream",
     "text": [
      "14865\n"
     ]
    }
   ],
   "source": [
    "tokenizer = Tokenizer(oov_token=\"<OOV>\")\n",
    "tokenizer.fit_on_texts(corpus)\n",
    "word_index = tokenizer.word_index\n",
    "print(len(word_index))"
   ]
  },
  {
   "cell_type": "code",
   "execution_count": 84,
   "metadata": {},
   "outputs": [],
   "source": [
    "vocab_size=max_features=len(word_index)"
   ]
  },
  {
   "cell_type": "markdown",
   "metadata": {},
   "source": [
    "**convert the tweets to word sequences and pad them so they all have the same size. This is necessary as the input to the neural network has a defined size**"
   ]
  },
  {
   "cell_type": "code",
   "execution_count": 85,
   "metadata": {},
   "outputs": [],
   "source": [
    "sequences = tokenizer.texts_to_sequences(train_corpus)\n",
    "padded = pad_sequences(sequences, maxlen=max_length, padding=padding_type, truncating=trunc_type)"
   ]
  },
  {
   "cell_type": "code",
   "execution_count": 86,
   "metadata": {},
   "outputs": [
    {
     "data": {
      "text/plain": [
       "array([[4748,  481,  225, ...,    0,    0,    0],\n",
       "       [ 128,    5,  177, ...,    0,    0,    0],\n",
       "       [1298,  521, 1727, ...,    0,    0,    0],\n",
       "       ...,\n",
       "       [3096, 3574, 1879, ...,    0,    0,    0],\n",
       "       [  31,  190, 3453, ...,   98,    0,    0],\n",
       "       [ 201,   38,  468, ...,    0,    0,    0]], dtype=int32)"
      ]
     },
     "execution_count": 86,
     "metadata": {},
     "output_type": "execute_result"
    }
   ],
   "source": [
    "padded"
   ]
  },
  {
   "cell_type": "code",
   "execution_count": 87,
   "metadata": {},
   "outputs": [],
   "source": [
    "training_size=len(train_corpus)"
   ]
  },
  {
   "cell_type": "code",
   "execution_count": 88,
   "metadata": {},
   "outputs": [
    {
     "data": {
      "text/plain": [
       "761"
      ]
     },
     "execution_count": 88,
     "metadata": {},
     "output_type": "execute_result"
    }
   ],
   "source": [
    "# get the split point, that is the number of samples that will go into the test set\n",
    "split = int(test_portion * training_size)\n",
    "split"
   ]
  },
  {
   "cell_type": "code",
   "execution_count": 89,
   "metadata": {},
   "outputs": [],
   "source": [
    "labels = train_df[\"target\"].tolist()"
   ]
  },
  {
   "cell_type": "code",
   "execution_count": 90,
   "metadata": {},
   "outputs": [],
   "source": [
    "test_sequences = padded[0:split]\n",
    "training_sequences = padded[split:training_size]\n",
    "test_labels = labels[0:split]\n",
    "training_labels = labels[split:training_size]"
   ]
  },
  {
   "cell_type": "code",
   "execution_count": 91,
   "metadata": {},
   "outputs": [
    {
     "data": {
      "text/plain": [
       "(1, 16)"
      ]
     },
     "execution_count": 91,
     "metadata": {},
     "output_type": "execute_result"
    }
   ],
   "source": [
    "np.array([training_sequences[0]]).shape"
   ]
  },
  {
   "cell_type": "markdown",
   "metadata": {},
   "source": [
    "**Download the GloVe embeddings**"
   ]
  },
  {
   "cell_type": "code",
   "execution_count": 92,
   "metadata": {},
   "outputs": [
    {
     "name": "stdout",
     "output_type": "stream",
     "text": [
      "wget: /opt/conda/lib/libuuid.so.1: no version information available (required by wget)\n",
      "--2020-02-18 03:28:04--  https://storage.googleapis.com/laurencemoroney-blog.appspot.com/glove.6B.100d.txt\n",
      "Resolving storage.googleapis.com (storage.googleapis.com)... 172.217.218.128, 2a00:1450:4013:c01::80\n",
      "Connecting to storage.googleapis.com (storage.googleapis.com)|172.217.218.128|:443... connected.\n",
      "HTTP request sent, awaiting response... 200 OK\n",
      "Length: 347116733 (331M) [text/plain]\n",
      "Saving to: ‘/tmp/glove.6B.100d.txt’\n",
      "\n",
      "/tmp/glove.6B.100d. 100%[===================>] 331.04M   133MB/s    in 2.5s    \n",
      "\n",
      "2020-02-18 03:28:06 (133 MB/s) - ‘/tmp/glove.6B.100d.txt’ saved [347116733/347116733]\n",
      "\n",
      "/tmp/glove.6B.100d.txt\n"
     ]
    }
   ],
   "source": [
    "!wget --no-check-certificate \\\n",
    "    https://storage.googleapis.com/laurencemoroney-blog.appspot.com/glove.6B.100d.txt \\\n",
    "    -O /tmp/glove.6B.100d.txt\n",
    "!ls /tmp/glove.6B.100d.txt"
   ]
  },
  {
   "cell_type": "code",
   "execution_count": 93,
   "metadata": {},
   "outputs": [],
   "source": [
    "# copy the glove file to the workspace\n",
    "    \n",
    "# from shutil import copyfile\n",
    "\n",
    "# # copy our file into the working directory (make sure it has .py suffix)\n",
    "# copyfile(src = \"/tmp/glove.6B.100d.txt\", dst = \"./glove.6B.100d.txt\")\n",
    "# # copyfile(src = \"/tmp/glove.6B.100d.txt\", dst = \"/kaggle/input/glove.6B.100d.tx\")"
   ]
  },
  {
   "cell_type": "markdown",
   "metadata": {},
   "source": [
    "**Embeddings matrix**"
   ]
  },
  {
   "cell_type": "code",
   "execution_count": 94,
   "metadata": {},
   "outputs": [],
   "source": [
    "embeddings_index = {};\n",
    "with open('/tmp/glove.6B.100d.txt') as f:\n",
    "    for line in f:\n",
    "        values = line.split();\n",
    "        word = values[0];\n",
    "        coefs = np.asarray(values[1:], dtype='float32');\n",
    "        embeddings_index[word] = coefs;\n",
    "        \n",
    "embeddings_matrix = np.zeros((vocab_size+1, embedding_dim));\n",
    "for word, i in word_index.items():\n",
    "    embedding_vector = embeddings_index.get(word);\n",
    "    if embedding_vector is not None:\n",
    "        embeddings_matrix[i] = embedding_vector;"
   ]
  },
  {
   "cell_type": "markdown",
   "metadata": {},
   "source": [
    "### First Model consists of a 1D convolution and a LSTM layer\n",
    "\n",
    "It also uses maxpooling, and SpatialDropout1D instead of dropout. It performs the same function as Dropout, however it drops entire 1D feature maps instead of individual elements. If adjacent frames within feature maps are strongly correlated (as is normally the case in early convolution layers) then regular dropout will not regularize the activations and will otherwise just result in an effective learning rate decrease. In this case, SpatialDropout1D will help promote independence between feature maps and should be used instead. "
   ]
  },
  {
   "cell_type": "code",
   "execution_count": 95,
   "metadata": {},
   "outputs": [
    {
     "name": "stdout",
     "output_type": "stream",
     "text": [
      "Model: \"sequential_4\"\n",
      "_________________________________________________________________\n",
      "Layer (type)                 Output Shape              Param #   \n",
      "=================================================================\n",
      "embedding_4 (Embedding)      (None, 16, 100)           1486600   \n",
      "_________________________________________________________________\n",
      "spatial_dropout1d_6 (Spatial (None, 16, 100)           0         \n",
      "_________________________________________________________________\n",
      "conv1d_2 (Conv1D)            (None, 12, 64)            32064     \n",
      "_________________________________________________________________\n",
      "max_pooling1d_2 (MaxPooling1 (None, 3, 64)             0         \n",
      "_________________________________________________________________\n",
      "lstm_6 (LSTM)                (None, 64)                33024     \n",
      "_________________________________________________________________\n",
      "dense_4 (Dense)              (None, 1)                 65        \n",
      "=================================================================\n",
      "Total params: 1,551,753\n",
      "Trainable params: 65,153\n",
      "Non-trainable params: 1,486,600\n",
      "_________________________________________________________________\n"
     ]
    }
   ],
   "source": [
    "model = tf.keras.Sequential([\n",
    "    tf.keras.layers.Embedding(vocab_size+1, embedding_dim, input_length=max_length, weights=[embeddings_matrix], trainable=False),\n",
    "    tf.keras.layers.SpatialDropout1D(0.4),\n",
    "    tf.keras.layers.Conv1D(64, 5, activation='relu'),\n",
    "    tf.keras.layers.MaxPooling1D(pool_size=4),\n",
    "    tf.keras.layers.LSTM(64),\n",
    "    tf.keras.layers.Dense(1, activation='sigmoid')\n",
    "])\n",
    "model.summary()"
   ]
  },
  {
   "cell_type": "code",
   "execution_count": 96,
   "metadata": {},
   "outputs": [
    {
     "name": "stdout",
     "output_type": "stream",
     "text": [
      "Model: \"sequential_4\"\n",
      "_________________________________________________________________\n",
      "Layer (type)                 Output Shape              Param #   \n",
      "=================================================================\n",
      "embedding_4 (Embedding)      (None, 16, 100)           1486600   \n",
      "_________________________________________________________________\n",
      "spatial_dropout1d_6 (Spatial (None, 16, 100)           0         \n",
      "_________________________________________________________________\n",
      "conv1d_2 (Conv1D)            (None, 12, 64)            32064     \n",
      "_________________________________________________________________\n",
      "max_pooling1d_2 (MaxPooling1 (None, 3, 64)             0         \n",
      "_________________________________________________________________\n",
      "lstm_6 (LSTM)                (None, 64)                33024     \n",
      "_________________________________________________________________\n",
      "dense_4 (Dense)              (None, 1)                 65        \n",
      "=================================================================\n",
      "Total params: 1,551,753\n",
      "Trainable params: 65,153\n",
      "Non-trainable params: 1,486,600\n",
      "_________________________________________________________________\n",
      "Train on 6852 samples, validate on 761 samples\n",
      "Epoch 1/50\n",
      "6852/6852 - 4s - loss: 0.5509 - accuracy: 0.7310 - val_loss: 0.4922 - val_accuracy: 0.7727\n",
      "Epoch 2/50\n",
      "6852/6852 - 2s - loss: 0.5002 - accuracy: 0.7644 - val_loss: 0.4981 - val_accuracy: 0.7819\n",
      "Epoch 3/50\n",
      "6852/6852 - 2s - loss: 0.4790 - accuracy: 0.7798 - val_loss: 0.4831 - val_accuracy: 0.7911\n",
      "Epoch 4/50\n",
      "6852/6852 - 2s - loss: 0.4541 - accuracy: 0.7942 - val_loss: 0.4654 - val_accuracy: 0.7898\n",
      "Epoch 5/50\n",
      "6852/6852 - 2s - loss: 0.4379 - accuracy: 0.8040 - val_loss: 0.5051 - val_accuracy: 0.7832\n",
      "Epoch 6/50\n",
      "6852/6852 - 2s - loss: 0.4217 - accuracy: 0.8164 - val_loss: 0.5219 - val_accuracy: 0.7806\n",
      "Epoch 7/50\n",
      "6852/6852 - 2s - loss: 0.4003 - accuracy: 0.8208 - val_loss: 0.5622 - val_accuracy: 0.7635\n",
      "Epoch 8/50\n",
      "6852/6852 - 2s - loss: 0.3874 - accuracy: 0.8300 - val_loss: 0.5118 - val_accuracy: 0.7858\n",
      "Epoch 9/50\n",
      "6852/6852 - 2s - loss: 0.3624 - accuracy: 0.8441 - val_loss: 0.5660 - val_accuracy: 0.7622\n",
      "Epoch 10/50\n",
      "6852/6852 - 2s - loss: 0.3576 - accuracy: 0.8468 - val_loss: 0.5717 - val_accuracy: 0.7569\n",
      "Epoch 11/50\n",
      "6852/6852 - 2s - loss: 0.3324 - accuracy: 0.8625 - val_loss: 0.5664 - val_accuracy: 0.7740\n",
      "Epoch 12/50\n",
      "6852/6852 - 2s - loss: 0.3260 - accuracy: 0.8650 - val_loss: 0.5567 - val_accuracy: 0.7779\n",
      "Epoch 13/50\n",
      "6852/6852 - 2s - loss: 0.3191 - accuracy: 0.8615 - val_loss: 0.5911 - val_accuracy: 0.7687\n",
      "Epoch 14/50\n",
      "6852/6852 - 2s - loss: 0.3091 - accuracy: 0.8685 - val_loss: 0.5863 - val_accuracy: 0.7792\n",
      "Epoch 15/50\n",
      "6852/6852 - 2s - loss: 0.2940 - accuracy: 0.8755 - val_loss: 0.5813 - val_accuracy: 0.7779\n",
      "Epoch 16/50\n",
      "6852/6852 - 2s - loss: 0.2910 - accuracy: 0.8773 - val_loss: 0.5870 - val_accuracy: 0.7858\n",
      "Epoch 17/50\n",
      "6852/6852 - 2s - loss: 0.2853 - accuracy: 0.8816 - val_loss: 0.6005 - val_accuracy: 0.7608\n",
      "Epoch 18/50\n",
      "6852/6852 - 2s - loss: 0.2640 - accuracy: 0.8924 - val_loss: 0.5923 - val_accuracy: 0.7806\n",
      "Epoch 19/50\n",
      "6852/6852 - 2s - loss: 0.2612 - accuracy: 0.8913 - val_loss: 0.5848 - val_accuracy: 0.7898\n",
      "Epoch 20/50\n",
      "6852/6852 - 2s - loss: 0.2618 - accuracy: 0.8951 - val_loss: 0.6493 - val_accuracy: 0.7806\n",
      "Epoch 21/50\n",
      "6852/6852 - 2s - loss: 0.2460 - accuracy: 0.8987 - val_loss: 0.6626 - val_accuracy: 0.7622\n",
      "Epoch 22/50\n",
      "6852/6852 - 2s - loss: 0.2489 - accuracy: 0.8958 - val_loss: 0.6442 - val_accuracy: 0.7608\n",
      "Epoch 23/50\n",
      "6852/6852 - 2s - loss: 0.2355 - accuracy: 0.9013 - val_loss: 0.6927 - val_accuracy: 0.7648\n",
      "Epoch 24/50\n",
      "6852/6852 - 2s - loss: 0.2382 - accuracy: 0.9040 - val_loss: 0.6482 - val_accuracy: 0.7792\n",
      "Epoch 25/50\n",
      "6852/6852 - 2s - loss: 0.2349 - accuracy: 0.9032 - val_loss: 0.6613 - val_accuracy: 0.7582\n",
      "Epoch 26/50\n",
      "6852/6852 - 2s - loss: 0.2284 - accuracy: 0.9067 - val_loss: 0.6914 - val_accuracy: 0.7438\n",
      "Epoch 27/50\n",
      "6852/6852 - 2s - loss: 0.2222 - accuracy: 0.9066 - val_loss: 0.6791 - val_accuracy: 0.7490\n",
      "Epoch 28/50\n",
      "6852/6852 - 2s - loss: 0.2267 - accuracy: 0.9070 - val_loss: 0.6714 - val_accuracy: 0.7740\n",
      "Epoch 29/50\n",
      "6852/6852 - 2s - loss: 0.2178 - accuracy: 0.9097 - val_loss: 0.6936 - val_accuracy: 0.7714\n",
      "Epoch 30/50\n",
      "6852/6852 - 2s - loss: 0.2117 - accuracy: 0.9154 - val_loss: 0.6621 - val_accuracy: 0.7674\n",
      "Epoch 31/50\n",
      "6852/6852 - 2s - loss: 0.2113 - accuracy: 0.9142 - val_loss: 0.7338 - val_accuracy: 0.7451\n",
      "Epoch 32/50\n",
      "6852/6852 - 2s - loss: 0.2209 - accuracy: 0.9105 - val_loss: 0.7006 - val_accuracy: 0.7569\n",
      "Epoch 33/50\n",
      "6852/6852 - 2s - loss: 0.2056 - accuracy: 0.9140 - val_loss: 0.7181 - val_accuracy: 0.7674\n",
      "Epoch 34/50\n",
      "6852/6852 - 2s - loss: 0.1985 - accuracy: 0.9206 - val_loss: 0.7733 - val_accuracy: 0.7293\n",
      "Epoch 35/50\n",
      "6852/6852 - 2s - loss: 0.1944 - accuracy: 0.9206 - val_loss: 0.7010 - val_accuracy: 0.7490\n",
      "Epoch 36/50\n",
      "6852/6852 - 2s - loss: 0.2020 - accuracy: 0.9181 - val_loss: 0.6694 - val_accuracy: 0.7556\n",
      "Epoch 37/50\n",
      "6852/6852 - 2s - loss: 0.1906 - accuracy: 0.9241 - val_loss: 0.7221 - val_accuracy: 0.7148\n",
      "Epoch 38/50\n",
      "6852/6852 - 2s - loss: 0.1931 - accuracy: 0.9208 - val_loss: 0.8136 - val_accuracy: 0.7648\n",
      "Epoch 39/50\n",
      "6852/6852 - 2s - loss: 0.1929 - accuracy: 0.9205 - val_loss: 0.7410 - val_accuracy: 0.7424\n",
      "Epoch 40/50\n",
      "6852/6852 - 2s - loss: 0.1880 - accuracy: 0.9237 - val_loss: 0.7331 - val_accuracy: 0.7635\n",
      "Epoch 41/50\n",
      "6852/6852 - 2s - loss: 0.1855 - accuracy: 0.9248 - val_loss: 0.7597 - val_accuracy: 0.7608\n",
      "Epoch 42/50\n",
      "6852/6852 - 2s - loss: 0.1776 - accuracy: 0.9291 - val_loss: 0.7296 - val_accuracy: 0.7622\n",
      "Epoch 43/50\n",
      "6852/6852 - 2s - loss: 0.1780 - accuracy: 0.9285 - val_loss: 0.7502 - val_accuracy: 0.7385\n",
      "Epoch 44/50\n",
      "6852/6852 - 2s - loss: 0.1745 - accuracy: 0.9317 - val_loss: 0.7608 - val_accuracy: 0.7424\n",
      "Epoch 45/50\n",
      "6852/6852 - 2s - loss: 0.1735 - accuracy: 0.9314 - val_loss: 0.7537 - val_accuracy: 0.7714\n",
      "Epoch 46/50\n",
      "6852/6852 - 2s - loss: 0.1663 - accuracy: 0.9301 - val_loss: 0.8292 - val_accuracy: 0.7608\n",
      "Epoch 47/50\n",
      "6852/6852 - 2s - loss: 0.1783 - accuracy: 0.9276 - val_loss: 0.7091 - val_accuracy: 0.7582\n",
      "Epoch 48/50\n",
      "6852/6852 - 2s - loss: 0.1730 - accuracy: 0.9332 - val_loss: 0.7426 - val_accuracy: 0.7622\n",
      "Epoch 49/50\n",
      "6852/6852 - 2s - loss: 0.1648 - accuracy: 0.9332 - val_loss: 0.7666 - val_accuracy: 0.7543\n",
      "Epoch 50/50\n",
      "6852/6852 - 2s - loss: 0.1700 - accuracy: 0.9310 - val_loss: 0.7707 - val_accuracy: 0.7595\n",
      "Training Complete\n"
     ]
    }
   ],
   "source": [
    "model.compile(loss='binary_crossentropy',optimizer='adam',metrics=['accuracy'])\n",
    "model.summary()\n",
    "\n",
    "num_epochs = 50\n",
    "history = model.fit(training_sequences, np.array(training_labels), epochs=num_epochs, validation_data=(test_sequences, np.array(test_labels)), verbose=2)\n",
    "\n",
    "print(\"Training Complete\")"
   ]
  },
  {
   "cell_type": "code",
   "execution_count": 98,
   "metadata": {},
   "outputs": [
    {
     "data": {
      "image/png": "[encoded data removed]",
      "text/plain": [
       "<Figure size 432x288 with 1 Axes>"
      ]
     },
     "metadata": {
      "needs_background": "light"
     },
     "output_type": "display_data"
    },
    {
     "data": {
      "image/png": "[encoded data removed]",
      "text/plain": [
       "<Figure size 432x288 with 1 Axes>"
      ]
     },
     "metadata": {
      "needs_background": "light"
     },
     "output_type": "display_data"
    },
    {
     "data": {
      "text/plain": [
       "<Figure size 432x288 with 0 Axes>"
      ]
     },
     "metadata": {},
     "output_type": "display_data"
    }
   ],
   "source": [
    "#-----------------------------------------------------------\n",
    "# Retrieve a list of list results on training and test data\n",
    "# sets for each training epoch\n",
    "#-----------------------------------------------------------\n",
    "acc=history.history['accuracy']\n",
    "val_acc=history.history['val_accuracy']\n",
    "loss=history.history['loss']\n",
    "val_loss=history.history['val_loss']\n",
    "\n",
    "epochs=range(len(acc)) # Get number of epochs\n",
    "\n",
    "#------------------------------------------------\n",
    "# Plot training and validation accuracy per epoch\n",
    "#------------------------------------------------\n",
    "plt.plot(epochs, acc, 'r')\n",
    "plt.plot(epochs, val_acc, 'b')\n",
    "plt.title('Training and validation accuracy')\n",
    "plt.xlabel(\"Epochs\")\n",
    "plt.ylabel(\"Accuracy\")\n",
    "plt.legend([\"Accuracy\", \"Validation Accuracy\"])\n",
    "\n",
    "plt.figure()\n",
    "\n",
    "#------------------------------------------------\n",
    "# Plot training and validation loss per epoch\n",
    "#------------------------------------------------\n",
    "plt.plot(epochs, loss, 'r')\n",
    "plt.plot(epochs, val_loss, 'b')\n",
    "plt.title('Training and validation loss')\n",
    "plt.xlabel(\"Epochs\")\n",
    "plt.ylabel(\"Loss\")\n",
    "plt.legend([\"Loss\", \"Validation Loss\"])\n",
    "\n",
    "plt.figure()\n",
    "\n",
    "plt.show()\n",
    "# Expected Output\n",
    "# A chart where the validation loss does not increase sharply!"
   ]
  },
  {
   "cell_type": "markdown",
   "metadata": {},
   "source": [
    "The model seems very overfit. One could also have used a early termination callback since there was no need to train for the 50 epochs.\n",
    "However, since this is not a very good model, we'll move on to a new, slightly different model.\n",
    "\n",
    "In the following model we'll remove the first convolution1D and use 2 LSTM layers instead"
   ]
  },
  {
   "cell_type": "code",
   "execution_count": 104,
   "metadata": {},
   "outputs": [
    {
     "name": "stdout",
     "output_type": "stream",
     "text": [
      "Model: \"sequential_6\"\n",
      "_________________________________________________________________\n",
      "Layer (type)                 Output Shape              Param #   \n",
      "=================================================================\n",
      "embedding_6 (Embedding)      (None, 16, 100)           1486600   \n",
      "_________________________________________________________________\n",
      "spatial_dropout1d_9 (Spatial (None, 16, 100)           0         \n",
      "_________________________________________________________________\n",
      "lstm_9 (LSTM)                (None, 16, 50)            30200     \n",
      "_________________________________________________________________\n",
      "spatial_dropout1d_10 (Spatia (None, 16, 50)            0         \n",
      "_________________________________________________________________\n",
      "lstm_10 (LSTM)               (None, 50)                20200     \n",
      "_________________________________________________________________\n",
      "dense_6 (Dense)              (None, 1)                 51        \n",
      "=================================================================\n",
      "Total params: 1,537,051\n",
      "Trainable params: 50,451\n",
      "Non-trainable params: 1,486,600\n",
      "_________________________________________________________________\n"
     ]
    }
   ],
   "source": [
    "from keras.layers import Embedding , SimpleRNN, Dense, LSTM, SpatialDropout1D\n",
    "from keras.initializers import Constant\n",
    "maxlen = 25\n",
    "    \n",
    "model = tf.keras.Sequential()\n",
    "model.add(tf.keras.layers.Embedding(vocab_size+1, embedding_dim, input_length=max_length, weights=[embeddings_matrix], trainable=False),\n",
    ")\n",
    "\n",
    "model.add(tf.keras.layers.SpatialDropout1D(0.4))\n",
    "model.add(tf.keras.layers.LSTM(50, return_sequences=True))\n",
    "model.add(tf.keras.layers.SpatialDropout1D(0.4))\n",
    "model.add(tf.keras.layers.LSTM(50))\n",
    "model.add(tf.keras.layers.Dense(1, activation='sigmoid'))\n",
    "model.summary()"
   ]
  },
  {
   "cell_type": "code",
   "execution_count": 100,
   "metadata": {},
   "outputs": [
    {
     "name": "stdout",
     "output_type": "stream",
     "text": [
      "Model: \"sequential_5\"\n",
      "_________________________________________________________________\n",
      "Layer (type)                 Output Shape              Param #   \n",
      "=================================================================\n",
      "embedding_5 (Embedding)      (None, 16, 100)           1486600   \n",
      "_________________________________________________________________\n",
      "spatial_dropout1d_7 (Spatial (None, 16, 100)           0         \n",
      "_________________________________________________________________\n",
      "lstm_7 (LSTM)                (None, 16, 50)            30200     \n",
      "_________________________________________________________________\n",
      "spatial_dropout1d_8 (Spatial (None, 16, 50)            0         \n",
      "_________________________________________________________________\n",
      "lstm_8 (LSTM)                (None, 50)                20200     \n",
      "_________________________________________________________________\n",
      "dense_5 (Dense)              (None, 1)                 51        \n",
      "=================================================================\n",
      "Total params: 1,537,051\n",
      "Trainable params: 50,451\n",
      "Non-trainable params: 1,486,600\n",
      "_________________________________________________________________\n",
      "Train on 6852 samples, validate on 761 samples\n",
      "Epoch 1/50\n",
      "6852/6852 - 7s - loss: 0.5654 - accuracy: 0.7125 - val_loss: 0.4916 - val_accuracy: 0.7858\n",
      "Epoch 2/50\n",
      "6852/6852 - 3s - loss: 0.5209 - accuracy: 0.7555 - val_loss: 0.4950 - val_accuracy: 0.7766\n",
      "Epoch 3/50\n",
      "6852/6852 - 3s - loss: 0.5118 - accuracy: 0.7582 - val_loss: 0.4846 - val_accuracy: 0.7819\n",
      "Epoch 4/50\n",
      "6852/6852 - 3s - loss: 0.5006 - accuracy: 0.7700 - val_loss: 0.4802 - val_accuracy: 0.7832\n",
      "Epoch 5/50\n",
      "6852/6852 - 3s - loss: 0.4926 - accuracy: 0.7720 - val_loss: 0.5238 - val_accuracy: 0.7608\n",
      "Epoch 6/50\n",
      "6852/6852 - 3s - loss: 0.4954 - accuracy: 0.7703 - val_loss: 0.4781 - val_accuracy: 0.7792\n",
      "Epoch 7/50\n",
      "6852/6852 - 3s - loss: 0.4769 - accuracy: 0.7788 - val_loss: 0.4999 - val_accuracy: 0.7806\n",
      "Epoch 8/50\n",
      "6852/6852 - 3s - loss: 0.4842 - accuracy: 0.7804 - val_loss: 0.4823 - val_accuracy: 0.7845\n",
      "Epoch 9/50\n",
      "6852/6852 - 3s - loss: 0.4699 - accuracy: 0.7863 - val_loss: 0.4788 - val_accuracy: 0.7911\n",
      "Epoch 10/50\n",
      "6852/6852 - 3s - loss: 0.4669 - accuracy: 0.7891 - val_loss: 0.4804 - val_accuracy: 0.7792\n",
      "Epoch 11/50\n",
      "6852/6852 - 3s - loss: 0.4651 - accuracy: 0.7893 - val_loss: 0.4808 - val_accuracy: 0.8042\n",
      "Epoch 12/50\n",
      "6852/6852 - 3s - loss: 0.4493 - accuracy: 0.7963 - val_loss: 0.4822 - val_accuracy: 0.7924\n",
      "Epoch 13/50\n",
      "6852/6852 - 3s - loss: 0.4494 - accuracy: 0.7970 - val_loss: 0.4667 - val_accuracy: 0.7963\n",
      "Epoch 14/50\n",
      "6852/6852 - 3s - loss: 0.4514 - accuracy: 0.7982 - val_loss: 0.4844 - val_accuracy: 0.7819\n",
      "Epoch 15/50\n",
      "6852/6852 - 3s - loss: 0.4325 - accuracy: 0.8091 - val_loss: 0.4782 - val_accuracy: 0.7884\n",
      "Epoch 16/50\n",
      "6852/6852 - 3s - loss: 0.4355 - accuracy: 0.8104 - val_loss: 0.4928 - val_accuracy: 0.7898\n",
      "Epoch 17/50\n",
      "6852/6852 - 3s - loss: 0.4254 - accuracy: 0.8135 - val_loss: 0.5406 - val_accuracy: 0.7792\n",
      "Epoch 18/50\n",
      "6852/6852 - 3s - loss: 0.4199 - accuracy: 0.8138 - val_loss: 0.4738 - val_accuracy: 0.7989\n",
      "Epoch 19/50\n",
      "6852/6852 - 3s - loss: 0.4191 - accuracy: 0.8132 - val_loss: 0.4909 - val_accuracy: 0.7740\n",
      "Epoch 20/50\n",
      "6852/6852 - 3s - loss: 0.4071 - accuracy: 0.8179 - val_loss: 0.5157 - val_accuracy: 0.7963\n",
      "Epoch 21/50\n",
      "6852/6852 - 3s - loss: 0.4110 - accuracy: 0.8168 - val_loss: 0.4629 - val_accuracy: 0.8108\n",
      "Epoch 22/50\n",
      "6852/6852 - 3s - loss: 0.4002 - accuracy: 0.8236 - val_loss: 0.4909 - val_accuracy: 0.7976\n",
      "Epoch 23/50\n",
      "6852/6852 - 3s - loss: 0.4045 - accuracy: 0.8259 - val_loss: 0.4834 - val_accuracy: 0.7963\n",
      "Epoch 24/50\n",
      "6852/6852 - 3s - loss: 0.3936 - accuracy: 0.8260 - val_loss: 0.4955 - val_accuracy: 0.7950\n",
      "Epoch 25/50\n",
      "6852/6852 - 3s - loss: 0.3928 - accuracy: 0.8256 - val_loss: 0.4710 - val_accuracy: 0.8003\n",
      "Epoch 26/50\n",
      "6852/6852 - 3s - loss: 0.3894 - accuracy: 0.8303 - val_loss: 0.4967 - val_accuracy: 0.7950\n",
      "Epoch 27/50\n",
      "6852/6852 - 3s - loss: 0.3875 - accuracy: 0.8295 - val_loss: 0.4965 - val_accuracy: 0.7871\n",
      "Epoch 28/50\n",
      "6852/6852 - 3s - loss: 0.3780 - accuracy: 0.8345 - val_loss: 0.4936 - val_accuracy: 0.8055\n",
      "Epoch 29/50\n",
      "6852/6852 - 3s - loss: 0.3709 - accuracy: 0.8398 - val_loss: 0.4970 - val_accuracy: 0.8003\n",
      "Epoch 30/50\n",
      "6852/6852 - 3s - loss: 0.3845 - accuracy: 0.8339 - val_loss: 0.4855 - val_accuracy: 0.7976\n",
      "Epoch 31/50\n",
      "6852/6852 - 3s - loss: 0.3634 - accuracy: 0.8489 - val_loss: 0.5181 - val_accuracy: 0.8003\n",
      "Epoch 32/50\n",
      "6852/6852 - 3s - loss: 0.3703 - accuracy: 0.8396 - val_loss: 0.5375 - val_accuracy: 0.7871\n",
      "Epoch 33/50\n",
      "6852/6852 - 3s - loss: 0.3625 - accuracy: 0.8418 - val_loss: 0.5350 - val_accuracy: 0.7898\n",
      "Epoch 34/50\n",
      "6852/6852 - 3s - loss: 0.3596 - accuracy: 0.8446 - val_loss: 0.5454 - val_accuracy: 0.7871\n",
      "Epoch 35/50\n",
      "6852/6852 - 3s - loss: 0.3569 - accuracy: 0.8473 - val_loss: 0.5385 - val_accuracy: 0.7976\n",
      "Epoch 36/50\n",
      "6852/6852 - 3s - loss: 0.3620 - accuracy: 0.8430 - val_loss: 0.5468 - val_accuracy: 0.7976\n",
      "Epoch 37/50\n",
      "6852/6852 - 3s - loss: 0.3479 - accuracy: 0.8508 - val_loss: 0.5300 - val_accuracy: 0.7845\n",
      "Epoch 38/50\n",
      "6852/6852 - 3s - loss: 0.3461 - accuracy: 0.8508 - val_loss: 0.5482 - val_accuracy: 0.7911\n",
      "Epoch 39/50\n",
      "6852/6852 - 3s - loss: 0.3470 - accuracy: 0.8475 - val_loss: 0.5568 - val_accuracy: 0.7884\n",
      "Epoch 40/50\n",
      "6852/6852 - 3s - loss: 0.3477 - accuracy: 0.8447 - val_loss: 0.5521 - val_accuracy: 0.8016\n",
      "Epoch 41/50\n",
      "6852/6852 - 3s - loss: 0.3466 - accuracy: 0.8478 - val_loss: 0.5536 - val_accuracy: 0.7924\n",
      "Epoch 42/50\n",
      "6852/6852 - 3s - loss: 0.3513 - accuracy: 0.8460 - val_loss: 0.5490 - val_accuracy: 0.7819\n",
      "Epoch 43/50\n",
      "6852/6852 - 3s - loss: 0.3420 - accuracy: 0.8529 - val_loss: 0.5352 - val_accuracy: 0.8003\n",
      "Epoch 44/50\n",
      "6852/6852 - 3s - loss: 0.3391 - accuracy: 0.8520 - val_loss: 0.5333 - val_accuracy: 0.7963\n",
      "Epoch 45/50\n",
      "6852/6852 - 3s - loss: 0.3340 - accuracy: 0.8570 - val_loss: 0.5543 - val_accuracy: 0.7937\n",
      "Epoch 46/50\n",
      "6852/6852 - 3s - loss: 0.3233 - accuracy: 0.8633 - val_loss: 0.5245 - val_accuracy: 0.8003\n",
      "Epoch 47/50\n",
      "6852/6852 - 3s - loss: 0.3287 - accuracy: 0.8570 - val_loss: 0.5190 - val_accuracy: 0.7937\n",
      "Epoch 48/50\n",
      "6852/6852 - 3s - loss: 0.3293 - accuracy: 0.8614 - val_loss: 0.5360 - val_accuracy: 0.7792\n",
      "Epoch 49/50\n",
      "6852/6852 - 3s - loss: 0.3263 - accuracy: 0.8644 - val_loss: 0.5296 - val_accuracy: 0.7976\n",
      "Epoch 50/50\n",
      "6852/6852 - 3s - loss: 0.3294 - accuracy: 0.8646 - val_loss: 0.5657 - val_accuracy: 0.7871\n",
      "Training Complete\n"
     ]
    }
   ],
   "source": [
    "model.compile(loss='binary_crossentropy',optimizer='adam',metrics=['accuracy'])\n",
    "model.summary()\n",
    "\n",
    "num_epochs = 50\n",
    "history = model.fit(training_sequences, np.array(training_labels), epochs=num_epochs, batch_size=64, validation_data=(test_sequences, np.array(test_labels)), verbose=2)\n",
    "\n",
    "print(\"Training Complete\")"
   ]
  },
  {
   "cell_type": "code",
   "execution_count": 101,
   "metadata": {},
   "outputs": [
    {
     "data": {
      "text/plain": [
       "<Figure size 432x288 with 0 Axes>"
      ]
     },
     "execution_count": 101,
     "metadata": {},
     "output_type": "execute_result"
    },
    {
     "data": {
      "image/png": "[encoded data removed]",
      "text/plain": [
       "<Figure size 432x288 with 1 Axes>"
      ]
     },
     "metadata": {
      "needs_background": "light"
     },
     "output_type": "display_data"
    },
    {
     "data": {
      "image/png": "[encoded data removed]",
      "text/plain": [
       "<Figure size 432x288 with 1 Axes>"
      ]
     },
     "metadata": {
      "needs_background": "light"
     },
     "output_type": "display_data"
    },
    {
     "data": {
      "text/plain": [
       "<Figure size 432x288 with 0 Axes>"
      ]
     },
     "metadata": {},
     "output_type": "display_data"
    }
   ],
   "source": [
    "#-----------------------------------------------------------\n",
    "# Retrieve a list of list results on training and test data\n",
    "# sets for each training epoch\n",
    "#-----------------------------------------------------------\n",
    "acc=history.history['accuracy']\n",
    "val_acc=history.history['val_accuracy']\n",
    "loss=history.history['loss']\n",
    "val_loss=history.history['val_loss']\n",
    "\n",
    "epochs=range(len(acc)) # Get number of epochs\n",
    "\n",
    "#------------------------------------------------\n",
    "# Plot training and validation accuracy per epoch\n",
    "#------------------------------------------------\n",
    "plt.plot(epochs, acc, 'r')\n",
    "plt.plot(epochs, val_acc, 'b')\n",
    "plt.title('Training and validation accuracy')\n",
    "plt.xlabel(\"Epochs\")\n",
    "plt.ylabel(\"Accuracy\")\n",
    "plt.legend([\"Accuracy\", \"Validation Accuracy\"])\n",
    "\n",
    "plt.figure()\n",
    "\n",
    "#------------------------------------------------\n",
    "# Plot training and validation loss per epoch\n",
    "#------------------------------------------------\n",
    "plt.plot(epochs, loss, 'r')\n",
    "plt.plot(epochs, val_loss, 'b')\n",
    "plt.title('Training and validation loss')\n",
    "plt.xlabel(\"Epochs\")\n",
    "plt.ylabel(\"Loss\")\n",
    "plt.legend([\"Loss\", \"Validation Loss\"])\n",
    "\n",
    "plt.figure()\n",
    "\n",
    "\n",
    "# Expected Output\n",
    "# A chart where the validation loss does not increase sharply!"
   ]
  },
  {
   "cell_type": "markdown",
   "metadata": {},
   "source": [
    "**The model quickly overfits. Lets train again, but this time add a early stopping callback**"
   ]
  },
  {
   "cell_type": "code",
   "execution_count": 105,
   "metadata": {},
   "outputs": [
    {
     "name": "stdout",
     "output_type": "stream",
     "text": [
      "Model: \"sequential_6\"\n",
      "_________________________________________________________________\n",
      "Layer (type)                 Output Shape              Param #   \n",
      "=================================================================\n",
      "embedding_6 (Embedding)      (None, 16, 100)           1486600   \n",
      "_________________________________________________________________\n",
      "spatial_dropout1d_9 (Spatial (None, 16, 100)           0         \n",
      "_________________________________________________________________\n",
      "lstm_9 (LSTM)                (None, 16, 50)            30200     \n",
      "_________________________________________________________________\n",
      "spatial_dropout1d_10 (Spatia (None, 16, 50)            0         \n",
      "_________________________________________________________________\n",
      "lstm_10 (LSTM)               (None, 50)                20200     \n",
      "_________________________________________________________________\n",
      "dense_6 (Dense)              (None, 1)                 51        \n",
      "=================================================================\n",
      "Total params: 1,537,051\n",
      "Trainable params: 50,451\n",
      "Non-trainable params: 1,486,600\n",
      "_________________________________________________________________\n",
      "Train on 6852 samples, validate on 761 samples\n",
      "Epoch 1/50\n",
      "\n",
      "Epoch 00001: val_loss improved from inf to 0.49138, saving model to ./best_model.hdf5\n",
      "6852/6852 - 7s - loss: 0.5723 - accuracy: 0.7030 - val_loss: 0.4914 - val_accuracy: 0.7806\n",
      "Epoch 2/50\n",
      "\n",
      "Epoch 00002: val_loss did not improve from 0.49138\n",
      "6852/6852 - 3s - loss: 0.5126 - accuracy: 0.7605 - val_loss: 0.4923 - val_accuracy: 0.7766\n",
      "Epoch 3/50\n",
      "\n",
      "Epoch 00003: val_loss did not improve from 0.49138\n",
      "6852/6852 - 3s - loss: 0.5100 - accuracy: 0.7627 - val_loss: 0.4951 - val_accuracy: 0.7884\n",
      "Epoch 4/50\n",
      "\n",
      "Epoch 00004: val_loss did not improve from 0.49138\n",
      "6852/6852 - 3s - loss: 0.4992 - accuracy: 0.7662 - val_loss: 0.4930 - val_accuracy: 0.7871\n",
      "Epoch 5/50\n",
      "\n",
      "Epoch 00005: val_loss did not improve from 0.49138\n",
      "6852/6852 - 3s - loss: 0.4959 - accuracy: 0.7712 - val_loss: 0.4979 - val_accuracy: 0.7806\n",
      "Epoch 6/50\n",
      "\n",
      "Epoch 00006: val_loss improved from 0.49138 to 0.48047, saving model to ./best_model.hdf5\n",
      "6852/6852 - 3s - loss: 0.4855 - accuracy: 0.7771 - val_loss: 0.4805 - val_accuracy: 0.7871\n",
      "Epoch 7/50\n",
      "\n",
      "Epoch 00007: val_loss improved from 0.48047 to 0.47885, saving model to ./best_model.hdf5\n",
      "6852/6852 - 3s - loss: 0.4836 - accuracy: 0.7783 - val_loss: 0.4788 - val_accuracy: 0.7845\n",
      "Epoch 8/50\n",
      "\n",
      "Epoch 00008: val_loss did not improve from 0.47885\n",
      "6852/6852 - 3s - loss: 0.4750 - accuracy: 0.7875 - val_loss: 0.4857 - val_accuracy: 0.7911\n",
      "Epoch 9/50\n",
      "\n",
      "Epoch 00009: val_loss improved from 0.47885 to 0.47201, saving model to ./best_model.hdf5\n",
      "6852/6852 - 3s - loss: 0.4709 - accuracy: 0.7882 - val_loss: 0.4720 - val_accuracy: 0.7898\n",
      "Epoch 10/50\n",
      "\n",
      "Epoch 00010: val_loss did not improve from 0.47201\n",
      "6852/6852 - 3s - loss: 0.4620 - accuracy: 0.7884 - val_loss: 0.4953 - val_accuracy: 0.7898\n",
      "Epoch 11/50\n",
      "\n",
      "Epoch 00011: val_loss did not improve from 0.47201\n",
      "6852/6852 - 3s - loss: 0.4543 - accuracy: 0.7970 - val_loss: 0.4893 - val_accuracy: 0.7858\n",
      "Epoch 12/50\n",
      "\n",
      "Epoch 00012: val_loss did not improve from 0.47201\n",
      "6852/6852 - 3s - loss: 0.4472 - accuracy: 0.8028 - val_loss: 0.4938 - val_accuracy: 0.7687\n",
      "Epoch 13/50\n",
      "\n",
      "Epoch 00013: val_loss did not improve from 0.47201\n",
      "6852/6852 - 3s - loss: 0.4360 - accuracy: 0.8074 - val_loss: 0.4871 - val_accuracy: 0.7989\n",
      "Epoch 14/50\n",
      "\n",
      "Epoch 00014: val_loss did not improve from 0.47201\n",
      "6852/6852 - 3s - loss: 0.4358 - accuracy: 0.8100 - val_loss: 0.5015 - val_accuracy: 0.7858\n",
      "Epoch 00014: early stopping\n",
      "Training Complete\n"
     ]
    }
   ],
   "source": [
    "model.compile(loss='binary_crossentropy',optimizer='adam',metrics=['accuracy'])\n",
    "model.summary()\n",
    "\n",
    "num_epochs = 50\n",
    "cb_list = [EarlyStopping(monitor='val_loss', mode='min', verbose=1, patience=5),\n",
    "          ModelCheckpoint(filepath='./best_model.hdf5', verbose=1, save_best_only=True)]\n",
    "\n",
    "history = model.fit(training_sequences, np.array(training_labels), epochs=num_epochs, batch_size=64, validation_data=(test_sequences, np.array(test_labels)), verbose=2, callbacks=cb_list)\n",
    "\n",
    "print(\"Training Complete\")"
   ]
  },
  {
   "cell_type": "code",
   "execution_count": 106,
   "metadata": {},
   "outputs": [
    {
     "data": {
      "text/plain": [
       "<Figure size 432x288 with 0 Axes>"
      ]
     },
     "execution_count": 106,
     "metadata": {},
     "output_type": "execute_result"
    },
    {
     "data": {
      "image/png": "[encoded data removed]",
      "text/plain": [
       "<Figure size 432x288 with 1 Axes>"
      ]
     },
     "metadata": {
      "needs_background": "light"
     },
     "output_type": "display_data"
    },
    {
     "data": {
      "image/png": "[encoded data removed]",
      "text/plain": [
       "<Figure size 432x288 with 1 Axes>"
      ]
     },
     "metadata": {
      "needs_background": "light"
     },
     "output_type": "display_data"
    },
    {
     "data": {
      "text/plain": [
       "<Figure size 432x288 with 0 Axes>"
      ]
     },
     "metadata": {},
     "output_type": "display_data"
    }
   ],
   "source": [
    "#-----------------------------------------------------------\n",
    "# Retrieve a list of list results on training and test data\n",
    "# sets for each training epoch\n",
    "#-----------------------------------------------------------\n",
    "acc=history.history['accuracy']\n",
    "val_acc=history.history['val_accuracy']\n",
    "loss=history.history['loss']\n",
    "val_loss=history.history['val_loss']\n",
    "\n",
    "epochs=range(len(acc)) # Get number of epochs\n",
    "\n",
    "#------------------------------------------------\n",
    "# Plot training and validation accuracy per epoch\n",
    "#------------------------------------------------\n",
    "plt.plot(epochs, acc, 'r')\n",
    "plt.plot(epochs, val_acc, 'b')\n",
    "plt.title('Training and validation accuracy')\n",
    "plt.xlabel(\"Epochs\")\n",
    "plt.ylabel(\"Accuracy\")\n",
    "plt.legend([\"Accuracy\", \"Validation Accuracy\"])\n",
    "\n",
    "plt.figure()\n",
    "\n",
    "#------------------------------------------------\n",
    "# Plot training and validation loss per epoch\n",
    "#------------------------------------------------\n",
    "plt.plot(epochs, loss, 'r')\n",
    "plt.plot(epochs, val_loss, 'b')\n",
    "plt.title('Training and validation loss')\n",
    "plt.xlabel(\"Epochs\")\n",
    "plt.ylabel(\"Loss\")\n",
    "plt.legend([\"Loss\", \"Validation Loss\"])\n",
    "\n",
    "plt.figure()\n",
    "\n",
    "\n",
    "# Expected Output\n",
    "# A chart where the validation loss does not increase sharply!"
   ]
  },
  {
   "cell_type": "code",
   "execution_count": null,
   "metadata": {},
   "outputs": [],
   "source": [
    "# from IPython.display import HTML\n",
    "# import pandas as pd\n",
    "# import numpy as np\n",
    "# import base64\n",
    "\n",
    "# # function that takes in a dataframe and creates a text link to  \n",
    "# # download it (will only work for files < 2MB or so)\n",
    "# def create_download_link(df, title = \"Download CSV file\", filename = \"data.csv\"):  \n",
    "#     csv = df.to_csv()\n",
    "#     b64 = base64.b64encode(csv.encode())\n",
    "#     payload = b64.decode()\n",
    "#     html = '<a download=\"{filename}\" href=\"data:text/csv;base64,{payload}\" target=\"_blank\">{title}</a>'\n",
    "#     html = html.format(payload=payload,title=title,filename=filename)\n",
    "#     return HTML(html)\n",
    "\n",
    "# # create a random sample dataframe\n",
    "# df = pd.DataFrame(np.random.randn(50, 4), columns=list('ABCD'))\n",
    "\n",
    "# # create a link to download the dataframe\n",
    "# create_download_link(df)"
   ]
  },
  {
   "cell_type": "code",
   "execution_count": 108,
   "metadata": {},
   "outputs": [
    {
     "name": "stdout",
     "output_type": "stream",
     "text": [
      "-rw-r--r-- 1 root root 6.3M Feb 18 03:37 ./best_model.hdf5\r\n"
     ]
    }
   ],
   "source": [
    "!ls -lh ./best_model.hdf5"
   ]
  },
  {
   "cell_type": "code",
   "execution_count": 109,
   "metadata": {},
   "outputs": [
    {
     "data": {
      "text/html": [
       "<a href='./best_model.hdf5' target='_blank'>./best_model.hdf5</a><br>"
      ],
      "text/plain": [
       "/kaggle/working/best_model.hdf5"
      ]
     },
     "execution_count": 109,
     "metadata": {},
     "output_type": "execute_result"
    }
   ],
   "source": [
    "from IPython.display import FileLink\n",
    "FileLink(r'./best_model.hdf5')"
   ]
  },
  {
   "cell_type": "code",
   "execution_count": 111,
   "metadata": {},
   "outputs": [
    {
     "data": {
      "text/plain": [
       "761"
      ]
     },
     "execution_count": 111,
     "metadata": {},
     "output_type": "execute_result"
    }
   ],
   "source": [
    "len(test_labels)"
   ]
  },
  {
   "cell_type": "code",
   "execution_count": 119,
   "metadata": {},
   "outputs": [],
   "source": [
    "sequences = tokenizer.texts_to_sequences(test_corpus)\n",
    "padded = pad_sequences(sequences, maxlen=max_length, padding=padding_type, truncating=trunc_type)"
   ]
  },
  {
   "cell_type": "code",
   "execution_count": 127,
   "metadata": {},
   "outputs": [],
   "source": [
    "# test_sequences = tokenizer.texts_to_sequences(train_corpus)  # transform each tweets in to a sequence of integers\n",
    "# test_data = pad_sequences(test_sequences, maxlen=maxlen, truncating='post', padding='post')  # (longer sequence than threshold will be truncated and shorter sequence will be padded with zeros)\n",
    "\n",
    "sequences = tokenizer.texts_to_sequences(train_corpus)\n",
    "padded = pad_sequences(sequences, maxlen=max_length, padding=padding_type, truncating=trunc_type)\n",
    "\n",
    "predictions = model.predict(padded)\n",
    "predictions = np.round(predictions).astype(int).reshape(len(padded))\n",
    "\n",
    "train_pred = train_df.copy()\n",
    "train_pred[\"pred\"] = predictions\n",
    "# Creating submission file \n",
    "# submission = pd.DataFrame({'id' : test_df['id'], 'target' : predictions})\n",
    "# submission.to_csv('final_submission.csv', index=False)\n",
    "\n",
    "# submission.head()"
   ]
  },
  {
   "cell_type": "code",
   "execution_count": 121,
   "metadata": {},
   "outputs": [
    {
     "data": {
      "text/html": [
       "<div>\n",
       "<style scoped>\n",
       "    .dataframe tbody tr th:only-of-type {\n",
       "        vertical-align: middle;\n",
       "    }\n",
       "\n",
       "    .dataframe tbody tr th {\n",
       "        vertical-align: top;\n",
       "    }\n",
       "\n",
       "    .dataframe thead th {\n",
       "        text-align: right;\n",
       "    }\n",
       "</style>\n",
       "<table border=\"1\" class=\"dataframe\">\n",
       "  <thead>\n",
       "    <tr style=\"text-align: right;\">\n",
       "      <th></th>\n",
       "      <th>id</th>\n",
       "      <th>target</th>\n",
       "    </tr>\n",
       "  </thead>\n",
       "  <tbody>\n",
       "    <tr>\n",
       "      <th>0</th>\n",
       "      <td>0</td>\n",
       "      <td>1</td>\n",
       "    </tr>\n",
       "    <tr>\n",
       "      <th>1</th>\n",
       "      <td>2</td>\n",
       "      <td>0</td>\n",
       "    </tr>\n",
       "    <tr>\n",
       "      <th>2</th>\n",
       "      <td>3</td>\n",
       "      <td>1</td>\n",
       "    </tr>\n",
       "    <tr>\n",
       "      <th>3</th>\n",
       "      <td>9</td>\n",
       "      <td>0</td>\n",
       "    </tr>\n",
       "    <tr>\n",
       "      <th>4</th>\n",
       "      <td>11</td>\n",
       "      <td>1</td>\n",
       "    </tr>\n",
       "  </tbody>\n",
       "</table>\n",
       "</div>"
      ],
      "text/plain": [
       "   id  target\n",
       "0   0       1\n",
       "1   2       0\n",
       "2   3       1\n",
       "3   9       0\n",
       "4  11       1"
      ]
     },
     "execution_count": 121,
     "metadata": {},
     "output_type": "execute_result"
    }
   ],
   "source": [
    "# test_sequences = tokenizer.texts_to_sequences(train_corpus)  # transform each tweets in to a sequence of integers\n",
    "# test_data = pad_sequences(test_sequences, maxlen=maxlen, truncating='post', padding='post')  # (longer sequence than threshold will be truncated and shorter sequence will be padded with zeros)\n",
    "\n",
    "sequences = tokenizer.texts_to_sequences(test_corpus)\n",
    "padded = pad_sequences(sequences, maxlen=max_length, padding=padding_type, truncating=trunc_type)\n",
    "\n",
    "predictions = model.predict(padded)\n",
    "predictions = np.round(predictions).astype(int).reshape(len(padded))\n",
    "\n",
    "# Creating submission file \n",
    "submission = pd.DataFrame({'id' : test_df['id'], 'target' : predictions})\n",
    "submission.to_csv('final_submission.csv', index=False)\n",
    "\n",
    "submission.head()"
   ]
  },
  {
   "cell_type": "code",
   "execution_count": 128,
   "metadata": {},
   "outputs": [
    {
     "data": {
      "text/html": [
       "<a href='./final_submission.csv' target='_blank'>./final_submission.csv</a><br>"
      ],
      "text/plain": [
       "/kaggle/working/final_submission.csv"
      ]
     },
     "execution_count": 128,
     "metadata": {},
     "output_type": "execute_result"
    }
   ],
   "source": [
    "from IPython.display import FileLink\n",
    "FileLink(r'./final_submission.csv')"
   ]
  },
  {
   "cell_type": "code",
   "execution_count": 129,
   "metadata": {},
   "outputs": [
    {
     "data": {
      "text/html": [
       "<div>\n",
       "<style scoped>\n",
       "    .dataframe tbody tr th:only-of-type {\n",
       "        vertical-align: middle;\n",
       "    }\n",
       "\n",
       "    .dataframe tbody tr th {\n",
       "        vertical-align: top;\n",
       "    }\n",
       "\n",
       "    .dataframe thead th {\n",
       "        text-align: right;\n",
       "    }\n",
       "</style>\n",
       "<table border=\"1\" class=\"dataframe\">\n",
       "  <thead>\n",
       "    <tr style=\"text-align: right;\">\n",
       "      <th></th>\n",
       "      <th>id</th>\n",
       "      <th>keyword</th>\n",
       "      <th>location</th>\n",
       "      <th>text</th>\n",
       "      <th>target</th>\n",
       "      <th>pred</th>\n",
       "    </tr>\n",
       "  </thead>\n",
       "  <tbody>\n",
       "    <tr>\n",
       "      <th>0</th>\n",
       "      <td>1</td>\n",
       "      <td>NaN</td>\n",
       "      <td>NaN</td>\n",
       "      <td>Our Deeds are the Reason of this #earthquake M...</td>\n",
       "      <td>1</td>\n",
       "      <td>0</td>\n",
       "    </tr>\n",
       "    <tr>\n",
       "      <th>1</th>\n",
       "      <td>4</td>\n",
       "      <td>NaN</td>\n",
       "      <td>NaN</td>\n",
       "      <td>Forest fire near La Ronge Sask. Canada</td>\n",
       "      <td>1</td>\n",
       "      <td>1</td>\n",
       "    </tr>\n",
       "    <tr>\n",
       "      <th>2</th>\n",
       "      <td>5</td>\n",
       "      <td>NaN</td>\n",
       "      <td>NaN</td>\n",
       "      <td>All residents asked to 'shelter in place' are ...</td>\n",
       "      <td>1</td>\n",
       "      <td>1</td>\n",
       "    </tr>\n",
       "    <tr>\n",
       "      <th>3</th>\n",
       "      <td>6</td>\n",
       "      <td>NaN</td>\n",
       "      <td>NaN</td>\n",
       "      <td>13,000 people receive #wildfires evacuation or...</td>\n",
       "      <td>1</td>\n",
       "      <td>1</td>\n",
       "    </tr>\n",
       "    <tr>\n",
       "      <th>4</th>\n",
       "      <td>7</td>\n",
       "      <td>NaN</td>\n",
       "      <td>NaN</td>\n",
       "      <td>Just got sent this photo from Ruby #Alaska as ...</td>\n",
       "      <td>1</td>\n",
       "      <td>0</td>\n",
       "    </tr>\n",
       "    <tr>\n",
       "      <th>...</th>\n",
       "      <td>...</td>\n",
       "      <td>...</td>\n",
       "      <td>...</td>\n",
       "      <td>...</td>\n",
       "      <td>...</td>\n",
       "      <td>...</td>\n",
       "    </tr>\n",
       "    <tr>\n",
       "      <th>7608</th>\n",
       "      <td>10869</td>\n",
       "      <td>NaN</td>\n",
       "      <td>NaN</td>\n",
       "      <td>Two giant cranes holding a bridge collapse int...</td>\n",
       "      <td>1</td>\n",
       "      <td>1</td>\n",
       "    </tr>\n",
       "    <tr>\n",
       "      <th>7609</th>\n",
       "      <td>10870</td>\n",
       "      <td>NaN</td>\n",
       "      <td>NaN</td>\n",
       "      <td>@aria_ahrary @TheTawniest The out of control w...</td>\n",
       "      <td>1</td>\n",
       "      <td>1</td>\n",
       "    </tr>\n",
       "    <tr>\n",
       "      <th>7610</th>\n",
       "      <td>10871</td>\n",
       "      <td>NaN</td>\n",
       "      <td>NaN</td>\n",
       "      <td>M1.94 [01:04 UTC]?5km S of Volcano Hawaii. htt...</td>\n",
       "      <td>1</td>\n",
       "      <td>1</td>\n",
       "    </tr>\n",
       "    <tr>\n",
       "      <th>7611</th>\n",
       "      <td>10872</td>\n",
       "      <td>NaN</td>\n",
       "      <td>NaN</td>\n",
       "      <td>Police investigating after an e-bike collided ...</td>\n",
       "      <td>1</td>\n",
       "      <td>1</td>\n",
       "    </tr>\n",
       "    <tr>\n",
       "      <th>7612</th>\n",
       "      <td>10873</td>\n",
       "      <td>NaN</td>\n",
       "      <td>NaN</td>\n",
       "      <td>The Latest: More Homes Razed by Northern Calif...</td>\n",
       "      <td>1</td>\n",
       "      <td>1</td>\n",
       "    </tr>\n",
       "  </tbody>\n",
       "</table>\n",
       "<p>7613 rows × 6 columns</p>\n",
       "</div>"
      ],
      "text/plain": [
       "         id keyword location  \\\n",
       "0         1     NaN      NaN   \n",
       "1         4     NaN      NaN   \n",
       "2         5     NaN      NaN   \n",
       "3         6     NaN      NaN   \n",
       "4         7     NaN      NaN   \n",
       "...     ...     ...      ...   \n",
       "7608  10869     NaN      NaN   \n",
       "7609  10870     NaN      NaN   \n",
       "7610  10871     NaN      NaN   \n",
       "7611  10872     NaN      NaN   \n",
       "7612  10873     NaN      NaN   \n",
       "\n",
       "                                                   text  target  pred  \n",
       "0     Our Deeds are the Reason of this #earthquake M...       1     0  \n",
       "1                Forest fire near La Ronge Sask. Canada       1     1  \n",
       "2     All residents asked to 'shelter in place' are ...       1     1  \n",
       "3     13,000 people receive #wildfires evacuation or...       1     1  \n",
       "4     Just got sent this photo from Ruby #Alaska as ...       1     0  \n",
       "...                                                 ...     ...   ...  \n",
       "7608  Two giant cranes holding a bridge collapse int...       1     1  \n",
       "7609  @aria_ahrary @TheTawniest The out of control w...       1     1  \n",
       "7610  M1.94 [01:04 UTC]?5km S of Volcano Hawaii. htt...       1     1  \n",
       "7611  Police investigating after an e-bike collided ...       1     1  \n",
       "7612  The Latest: More Homes Razed by Northern Calif...       1     1  \n",
       "\n",
       "[7613 rows x 6 columns]"
      ]
     },
     "execution_count": 129,
     "metadata": {},
     "output_type": "execute_result"
    }
   ],
   "source": [
    "train_pred"
   ]
  },
  {
   "cell_type": "code",
   "execution_count": 132,
   "metadata": {},
   "outputs": [],
   "source": [
    "predictions = train_pred[\"pred\"].to_list()"
   ]
  },
  {
   "cell_type": "code",
   "execution_count": 134,
   "metadata": {},
   "outputs": [],
   "source": [
    "y_test = train_pred[\"target\"].to_list()"
   ]
  },
  {
   "cell_type": "code",
   "execution_count": 137,
   "metadata": {},
   "outputs": [
    {
     "name": "stdout",
     "output_type": "stream",
     "text": [
      "Accuracy score:  0.8289767502955471\n",
      "Precision score:  0.6689085906450627\n",
      "Recall score:  0.9090153718321562\n",
      "F1 score:  0.7706939063050369\n"
     ]
    }
   ],
   "source": [
    "print('Accuracy score: ', format(accuracy_score(predictions, y_test )))\n",
    "print('Precision score: ', format(precision_score(predictions, y_test)))\n",
    "print('Recall score: ', format(recall_score(predictions, y_test)))\n",
    "print('F1 score: ', format(f1_score(predictions, y_test)))"
   ]
  },
  {
   "cell_type": "code",
   "execution_count": 150,
   "metadata": {},
   "outputs": [],
   "source": [
    "def plot_confusion_matrix(y_test, predictions):\n",
    "    labels = [0, 1]\n",
    "    cm = confusion_matrix(y_test, predictions, labels)\n",
    "    print(cm)\n",
    "    labels = [\"real\", \"not\"]\n",
    "    fig = plt.figure()\n",
    "    ax = fig.add_subplot(111)\n",
    "    cax = ax.matshow(cm)\n",
    "    plt.title('Confusion matrix of the classifier', color=\"red\")\n",
    "    fig.colorbar(cax)\n",
    "    ax.set_xticklabels([''] + labels)\n",
    "    ax.set_yticklabels([''] + labels)\n",
    "    plt.xlabel('Predicted', color=\"red\")\n",
    "    plt.ylabel('True', color=\"red\")\n",
    "    plt.show()"
   ]
  },
  {
   "cell_type": "code",
   "execution_count": 151,
   "metadata": {},
   "outputs": [
    {
     "name": "stdout",
     "output_type": "stream",
     "text": [
      "[[4123  219]\n",
      " [1083 2188]]\n"
     ]
    },
    {
     "data": {
      "image/png": "[encoded data removed]",
      "text/plain": [
       "<Figure size 432x288 with 2 Axes>"
      ]
     },
     "metadata": {
      "needs_background": "light"
     },
     "output_type": "display_data"
    }
   ],
   "source": [
    "plot_confusion_matrix(y_test, predictions)"
   ]
  },
  {
   "cell_type": "code",
   "execution_count": 152,
   "metadata": {},
   "outputs": [],
   "source": [
    "fpr, tpr, thresholds = roc_curve(np.array(y_test), predictions, pos_label=1)"
   ]
  },
  {
   "cell_type": "code",
   "execution_count": 153,
   "metadata": {},
   "outputs": [],
   "source": [
    "roc_auc = auc(fpr, tpr)"
   ]
  },
  {
   "cell_type": "code",
   "execution_count": 154,
   "metadata": {},
   "outputs": [
    {
     "data": {
      "text/plain": [
       "[<matplotlib.lines.Line2D at 0x7f4b2efb3fd0>]"
      ]
     },
     "execution_count": 154,
     "metadata": {},
     "output_type": "execute_result"
    },
    {
     "data": {
      "image/png": "[encoded data removed]",
      "text/plain": [
       "<Figure size 432x288 with 1 Axes>"
      ]
     },
     "metadata": {
      "needs_background": "light"
     },
     "output_type": "display_data"
    }
   ],
   "source": [
    "plt.plot(fpr, tpr, color='b',\n",
    "         label=r'Mean ROC (AUC = %0.2f)' % (roc_auc),\n",
    "         lw=2, alpha=.8)"
   ]
  },
  {
   "cell_type": "markdown",
   "metadata": {},
   "source": [
    "The AUC curve has the true positive rate on the y-axis, and the false positive rate on the x axis. Our curve is not very good as after 60% true positive rate the model starts making many false positives."
   ]
  },
  {
   "cell_type": "code",
   "execution_count": 155,
   "metadata": {},
   "outputs": [],
   "source": [
    "precision, recall, _ = precision_recall_curve(y_test, predictions)"
   ]
  },
  {
   "cell_type": "code",
   "execution_count": 156,
   "metadata": {},
   "outputs": [
    {
     "name": "stdout",
     "output_type": "stream",
     "text": [
      "[0.42965979 0.90901537 1.        ] [1.         0.66890859 0.        ]\n"
     ]
    }
   ],
   "source": [
    "print(precision, recall)"
   ]
  },
  {
   "cell_type": "code",
   "execution_count": 157,
   "metadata": {},
   "outputs": [],
   "source": [
    "average_precision = average_precision_score(y_test, predictions)"
   ]
  },
  {
   "cell_type": "code",
   "execution_count": 162,
   "metadata": {},
   "outputs": [
    {
     "name": "stdout",
     "output_type": "stream",
     "text": [
      "\n"
     ]
    },
    {
     "data": {
      "image/png": "[encoded data removed]",
      "text/plain": [
       "<Figure size 432x288 with 1 Axes>"
      ]
     },
     "metadata": {
      "needs_background": "light"
     },
     "output_type": "display_data"
    }
   ],
   "source": [
    "step_kwargs = ({'step': 'post'}\n",
    "               if 'step' in signature(plt.fill_between).parameters\n",
    "               else {})\n",
    "plt.step(recall, precision, color='b', alpha=0.2,\n",
    "         where='post')\n",
    "plt.fill_between(recall, precision, alpha=0.2, color='b', **step_kwargs)\n",
    "\n",
    "plt.xlabel('Recall', color=\"red\")\n",
    "plt.ylabel('Precision', color=\"red\")\n",
    "plt.ylim([0.0, 1.05])\n",
    "plt.xlim([0.0, 1.0])\n",
    "plt.title('2-class Precision-Recall curve: AP={0:0.2f}'.format(\n",
    "          average_precision), color=\"red\")\n",
    "print(\"\")"
   ]
  },
  {
   "cell_type": "markdown",
   "metadata": {},
   "source": [
    "This model achieves a accuracy score of 0.82 on the training set, A Precision score of 0.67, Recall score of 0.91 and F1 score of 0.77.\n",
    "\n",
    "Remember that accuracy is the number of correct predictions. Precision (positive predictive value) is the fraction of actual positive cases among those classified as positive (ho wmany selected items are relevant), and and recall is the fraction of total positive cases tha were classified as so (how many relevant items are selected). F1 is the harmonic mean between precision and recall."
   ]
  },
  {
   "cell_type": "markdown",
   "metadata": {},
   "source": [
    "The model's precision/recall curve is not very good. As the recall increases above 60%, the precision suffers considerably"
   ]
  },
  {
   "cell_type": "markdown",
   "metadata": {},
   "source": [
    "Of course, we can't actually evaluate the model performance on the test set since this is a kaggle competition and we don't have the ground truth"
   ]
  },
  {
   "cell_type": "markdown",
   "metadata": {},
   "source": [
    "..or can we? Actually we can download the original dataset from [here](https://www.figure-eight.com/data-for-everyone/). We're going to use the labels of the test data to evaluate our model"
   ]
  },
  {
   "cell_type": "code",
   "execution_count": 4,
   "metadata": {},
   "outputs": [],
   "source": [
    "original = pd.read_csv(\"../data/original.csv\")"
   ]
  },
  {
   "cell_type": "code",
   "execution_count": 16,
   "metadata": {},
   "outputs": [
    {
     "data": {
      "text/html": [
       "<div>\n",
       "<style scoped>\n",
       "    .dataframe tbody tr th:only-of-type {\n",
       "        vertical-align: middle;\n",
       "    }\n",
       "\n",
       "    .dataframe tbody tr th {\n",
       "        vertical-align: top;\n",
       "    }\n",
       "\n",
       "    .dataframe thead th {\n",
       "        text-align: right;\n",
       "    }\n",
       "</style>\n",
       "<table border=\"1\" class=\"dataframe\">\n",
       "  <thead>\n",
       "    <tr style=\"text-align: right;\">\n",
       "      <th></th>\n",
       "      <th>_unit_id</th>\n",
       "      <th>_golden</th>\n",
       "      <th>_unit_state</th>\n",
       "      <th>_trusted_judgments</th>\n",
       "      <th>_last_judgment_at</th>\n",
       "      <th>choose_one</th>\n",
       "      <th>choose_one:confidence</th>\n",
       "      <th>choose_one_gold</th>\n",
       "      <th>keyword</th>\n",
       "      <th>location</th>\n",
       "      <th>text</th>\n",
       "      <th>tweetid</th>\n",
       "      <th>userid</th>\n",
       "    </tr>\n",
       "  </thead>\n",
       "  <tbody>\n",
       "    <tr>\n",
       "      <th>0</th>\n",
       "      <td>778243823</td>\n",
       "      <td>True</td>\n",
       "      <td>golden</td>\n",
       "      <td>156</td>\n",
       "      <td>NaN</td>\n",
       "      <td>Relevant</td>\n",
       "      <td>1.0000</td>\n",
       "      <td>Relevant</td>\n",
       "      <td>NaN</td>\n",
       "      <td>NaN</td>\n",
       "      <td>Just happened a terrible car crash</td>\n",
       "      <td>1.0</td>\n",
       "      <td>NaN</td>\n",
       "    </tr>\n",
       "    <tr>\n",
       "      <th>1</th>\n",
       "      <td>778243824</td>\n",
       "      <td>True</td>\n",
       "      <td>golden</td>\n",
       "      <td>152</td>\n",
       "      <td>NaN</td>\n",
       "      <td>Relevant</td>\n",
       "      <td>1.0000</td>\n",
       "      <td>Relevant</td>\n",
       "      <td>NaN</td>\n",
       "      <td>NaN</td>\n",
       "      <td>Our Deeds are the Reason of this #earthquake M...</td>\n",
       "      <td>13.0</td>\n",
       "      <td>NaN</td>\n",
       "    </tr>\n",
       "    <tr>\n",
       "      <th>2</th>\n",
       "      <td>778243825</td>\n",
       "      <td>True</td>\n",
       "      <td>golden</td>\n",
       "      <td>137</td>\n",
       "      <td>NaN</td>\n",
       "      <td>Relevant</td>\n",
       "      <td>1.0000</td>\n",
       "      <td>Relevant</td>\n",
       "      <td>NaN</td>\n",
       "      <td>NaN</td>\n",
       "      <td>Heard about #earthquake is different cities, s...</td>\n",
       "      <td>14.0</td>\n",
       "      <td>NaN</td>\n",
       "    </tr>\n",
       "    <tr>\n",
       "      <th>3</th>\n",
       "      <td>778243826</td>\n",
       "      <td>True</td>\n",
       "      <td>golden</td>\n",
       "      <td>136</td>\n",
       "      <td>NaN</td>\n",
       "      <td>Relevant</td>\n",
       "      <td>0.9603</td>\n",
       "      <td>Relevant</td>\n",
       "      <td>NaN</td>\n",
       "      <td>NaN</td>\n",
       "      <td>there is a forest fire at spot pond, geese are...</td>\n",
       "      <td>15.0</td>\n",
       "      <td>NaN</td>\n",
       "    </tr>\n",
       "    <tr>\n",
       "      <th>4</th>\n",
       "      <td>778243827</td>\n",
       "      <td>True</td>\n",
       "      <td>golden</td>\n",
       "      <td>138</td>\n",
       "      <td>NaN</td>\n",
       "      <td>Relevant</td>\n",
       "      <td>1.0000</td>\n",
       "      <td>Relevant</td>\n",
       "      <td>NaN</td>\n",
       "      <td>NaN</td>\n",
       "      <td>Forest fire near La Ronge Sask. Canada</td>\n",
       "      <td>16.0</td>\n",
       "      <td>NaN</td>\n",
       "    </tr>\n",
       "    <tr>\n",
       "      <th>5</th>\n",
       "      <td>778243828</td>\n",
       "      <td>True</td>\n",
       "      <td>golden</td>\n",
       "      <td>140</td>\n",
       "      <td>NaN</td>\n",
       "      <td>Relevant</td>\n",
       "      <td>1.0000</td>\n",
       "      <td>Relevant</td>\n",
       "      <td>NaN</td>\n",
       "      <td>NaN</td>\n",
       "      <td>All residents asked to 'shelter in place' are ...</td>\n",
       "      <td>17.0</td>\n",
       "      <td>NaN</td>\n",
       "    </tr>\n",
       "    <tr>\n",
       "      <th>6</th>\n",
       "      <td>778243831</td>\n",
       "      <td>True</td>\n",
       "      <td>golden</td>\n",
       "      <td>142</td>\n",
       "      <td>NaN</td>\n",
       "      <td>Relevant</td>\n",
       "      <td>1.0000</td>\n",
       "      <td>Relevant</td>\n",
       "      <td>NaN</td>\n",
       "      <td>NaN</td>\n",
       "      <td>13,000 people receive #wildfires evacuation or...</td>\n",
       "      <td>18.0</td>\n",
       "      <td>NaN</td>\n",
       "    </tr>\n",
       "    <tr>\n",
       "      <th>7</th>\n",
       "      <td>778243832</td>\n",
       "      <td>True</td>\n",
       "      <td>golden</td>\n",
       "      <td>151</td>\n",
       "      <td>NaN</td>\n",
       "      <td>Relevant</td>\n",
       "      <td>1.0000</td>\n",
       "      <td>Relevant</td>\n",
       "      <td>NaN</td>\n",
       "      <td>NaN</td>\n",
       "      <td>Just got sent this photo from Ruby #Alaska as ...</td>\n",
       "      <td>19.0</td>\n",
       "      <td>NaN</td>\n",
       "    </tr>\n",
       "    <tr>\n",
       "      <th>8</th>\n",
       "      <td>778243833</td>\n",
       "      <td>True</td>\n",
       "      <td>golden</td>\n",
       "      <td>143</td>\n",
       "      <td>NaN</td>\n",
       "      <td>Relevant</td>\n",
       "      <td>1.0000</td>\n",
       "      <td>Relevant</td>\n",
       "      <td>NaN</td>\n",
       "      <td>NaN</td>\n",
       "      <td>#RockyFire Update =&gt; California Hwy. 20 closed...</td>\n",
       "      <td>20.0</td>\n",
       "      <td>NaN</td>\n",
       "    </tr>\n",
       "    <tr>\n",
       "      <th>9</th>\n",
       "      <td>778243834</td>\n",
       "      <td>True</td>\n",
       "      <td>golden</td>\n",
       "      <td>136</td>\n",
       "      <td>NaN</td>\n",
       "      <td>Relevant</td>\n",
       "      <td>0.9606</td>\n",
       "      <td>Relevant\\nCan't Decide</td>\n",
       "      <td>NaN</td>\n",
       "      <td>NaN</td>\n",
       "      <td>Apocalypse lighting. #Spokane #wildfires</td>\n",
       "      <td>21.0</td>\n",
       "      <td>NaN</td>\n",
       "    </tr>\n",
       "    <tr>\n",
       "      <th>10</th>\n",
       "      <td>778243835</td>\n",
       "      <td>True</td>\n",
       "      <td>golden</td>\n",
       "      <td>152</td>\n",
       "      <td>NaN</td>\n",
       "      <td>Relevant</td>\n",
       "      <td>1.0000</td>\n",
       "      <td>Relevant</td>\n",
       "      <td>NaN</td>\n",
       "      <td>NaN</td>\n",
       "      <td>#flood #disaster Heavy rain causes flash flood...</td>\n",
       "      <td>11.0</td>\n",
       "      <td>NaN</td>\n",
       "    </tr>\n",
       "    <tr>\n",
       "      <th>11</th>\n",
       "      <td>778243836</td>\n",
       "      <td>True</td>\n",
       "      <td>golden</td>\n",
       "      <td>157</td>\n",
       "      <td>NaN</td>\n",
       "      <td>Relevant</td>\n",
       "      <td>1.0000</td>\n",
       "      <td>Relevant</td>\n",
       "      <td>NaN</td>\n",
       "      <td>NaN</td>\n",
       "      <td>Typhoon Soudelor kills 28 in China and Taiwan</td>\n",
       "      <td>12.0</td>\n",
       "      <td>NaN</td>\n",
       "    </tr>\n",
       "    <tr>\n",
       "      <th>12</th>\n",
       "      <td>778243837</td>\n",
       "      <td>True</td>\n",
       "      <td>golden</td>\n",
       "      <td>143</td>\n",
       "      <td>NaN</td>\n",
       "      <td>Relevant</td>\n",
       "      <td>1.0000</td>\n",
       "      <td>Relevant</td>\n",
       "      <td>NaN</td>\n",
       "      <td>NaN</td>\n",
       "      <td>We're shaking...It's an earthquake</td>\n",
       "      <td>2.0</td>\n",
       "      <td>NaN</td>\n",
       "    </tr>\n",
       "    <tr>\n",
       "      <th>13</th>\n",
       "      <td>778243838</td>\n",
       "      <td>True</td>\n",
       "      <td>golden</td>\n",
       "      <td>140</td>\n",
       "      <td>NaN</td>\n",
       "      <td>Relevant</td>\n",
       "      <td>0.9607</td>\n",
       "      <td>Relevant\\nCan't Decide</td>\n",
       "      <td>NaN</td>\n",
       "      <td>NaN</td>\n",
       "      <td>I'm on top of the hill and I can see a fire in...</td>\n",
       "      <td>7.0</td>\n",
       "      <td>NaN</td>\n",
       "    </tr>\n",
       "    <tr>\n",
       "      <th>14</th>\n",
       "      <td>778243839</td>\n",
       "      <td>True</td>\n",
       "      <td>golden</td>\n",
       "      <td>136</td>\n",
       "      <td>NaN</td>\n",
       "      <td>Relevant</td>\n",
       "      <td>0.9215</td>\n",
       "      <td>Relevant</td>\n",
       "      <td>NaN</td>\n",
       "      <td>NaN</td>\n",
       "      <td>There's an emergency evacuation happening now ...</td>\n",
       "      <td>8.0</td>\n",
       "      <td>NaN</td>\n",
       "    </tr>\n",
       "    <tr>\n",
       "      <th>15</th>\n",
       "      <td>778243840</td>\n",
       "      <td>True</td>\n",
       "      <td>golden</td>\n",
       "      <td>147</td>\n",
       "      <td>NaN</td>\n",
       "      <td>Relevant</td>\n",
       "      <td>0.7177</td>\n",
       "      <td>Relevant\\nCan't Decide</td>\n",
       "      <td>NaN</td>\n",
       "      <td>NaN</td>\n",
       "      <td>I'm afraid that the tornado is coming to our a...</td>\n",
       "      <td>9.0</td>\n",
       "      <td>NaN</td>\n",
       "    </tr>\n",
       "    <tr>\n",
       "      <th>16</th>\n",
       "      <td>778243841</td>\n",
       "      <td>True</td>\n",
       "      <td>golden</td>\n",
       "      <td>147</td>\n",
       "      <td>NaN</td>\n",
       "      <td>Relevant</td>\n",
       "      <td>0.9603</td>\n",
       "      <td>Relevant</td>\n",
       "      <td>NaN</td>\n",
       "      <td>NaN</td>\n",
       "      <td>Three people died from the heat wave so far</td>\n",
       "      <td>10.0</td>\n",
       "      <td>NaN</td>\n",
       "    </tr>\n",
       "    <tr>\n",
       "      <th>17</th>\n",
       "      <td>778243842</td>\n",
       "      <td>True</td>\n",
       "      <td>golden</td>\n",
       "      <td>132</td>\n",
       "      <td>NaN</td>\n",
       "      <td>Relevant</td>\n",
       "      <td>1.0000</td>\n",
       "      <td>Relevant</td>\n",
       "      <td>NaN</td>\n",
       "      <td>NaN</td>\n",
       "      <td>Haha South Tampa is getting flooded hah- WAIT ...</td>\n",
       "      <td>22.0</td>\n",
       "      <td>NaN</td>\n",
       "    </tr>\n",
       "    <tr>\n",
       "      <th>18</th>\n",
       "      <td>778243843</td>\n",
       "      <td>True</td>\n",
       "      <td>golden</td>\n",
       "      <td>144</td>\n",
       "      <td>NaN</td>\n",
       "      <td>Relevant</td>\n",
       "      <td>1.0000</td>\n",
       "      <td>Relevant</td>\n",
       "      <td>NaN</td>\n",
       "      <td>NaN</td>\n",
       "      <td>#raining #flooding #Florida #TampaBay #Tampa 1...</td>\n",
       "      <td>23.0</td>\n",
       "      <td>NaN</td>\n",
       "    </tr>\n",
       "    <tr>\n",
       "      <th>19</th>\n",
       "      <td>778243844</td>\n",
       "      <td>True</td>\n",
       "      <td>golden</td>\n",
       "      <td>147</td>\n",
       "      <td>NaN</td>\n",
       "      <td>Relevant</td>\n",
       "      <td>0.6761</td>\n",
       "      <td>Relevant\\nCan't Decide</td>\n",
       "      <td>NaN</td>\n",
       "      <td>NaN</td>\n",
       "      <td>#Flood in Bago Myanmar #We arrived Bago</td>\n",
       "      <td>24.0</td>\n",
       "      <td>NaN</td>\n",
       "    </tr>\n",
       "    <tr>\n",
       "      <th>20</th>\n",
       "      <td>778243845</td>\n",
       "      <td>True</td>\n",
       "      <td>golden</td>\n",
       "      <td>136</td>\n",
       "      <td>NaN</td>\n",
       "      <td>Relevant</td>\n",
       "      <td>1.0000</td>\n",
       "      <td>Relevant</td>\n",
       "      <td>NaN</td>\n",
       "      <td>NaN</td>\n",
       "      <td>Damage to school bus on 80 in multi car crash ...</td>\n",
       "      <td>25.0</td>\n",
       "      <td>NaN</td>\n",
       "    </tr>\n",
       "    <tr>\n",
       "      <th>21</th>\n",
       "      <td>778243846</td>\n",
       "      <td>True</td>\n",
       "      <td>golden</td>\n",
       "      <td>151</td>\n",
       "      <td>NaN</td>\n",
       "      <td>Not Relevant</td>\n",
       "      <td>0.9612</td>\n",
       "      <td>Not Relevant</td>\n",
       "      <td>NaN</td>\n",
       "      <td>NaN</td>\n",
       "      <td>They'd probably still show more life than Arse...</td>\n",
       "      <td>26.0</td>\n",
       "      <td>NaN</td>\n",
       "    </tr>\n",
       "    <tr>\n",
       "      <th>22</th>\n",
       "      <td>778243847</td>\n",
       "      <td>True</td>\n",
       "      <td>golden</td>\n",
       "      <td>124</td>\n",
       "      <td>NaN</td>\n",
       "      <td>Not Relevant</td>\n",
       "      <td>1.0000</td>\n",
       "      <td>Not Relevant</td>\n",
       "      <td>NaN</td>\n",
       "      <td>NaN</td>\n",
       "      <td>Hey! How are you?</td>\n",
       "      <td>27.0</td>\n",
       "      <td>NaN</td>\n",
       "    </tr>\n",
       "    <tr>\n",
       "      <th>23</th>\n",
       "      <td>778243848</td>\n",
       "      <td>True</td>\n",
       "      <td>golden</td>\n",
       "      <td>140</td>\n",
       "      <td>NaN</td>\n",
       "      <td>Not Relevant</td>\n",
       "      <td>1.0000</td>\n",
       "      <td>Not Relevant</td>\n",
       "      <td>NaN</td>\n",
       "      <td>NaN</td>\n",
       "      <td>What's up man?</td>\n",
       "      <td>28.0</td>\n",
       "      <td>NaN</td>\n",
       "    </tr>\n",
       "  </tbody>\n",
       "</table>\n",
       "</div>"
      ],
      "text/plain": [
       "     _unit_id  _golden _unit_state  _trusted_judgments _last_judgment_at  \\\n",
       "0   778243823     True      golden                 156               NaN   \n",
       "1   778243824     True      golden                 152               NaN   \n",
       "2   778243825     True      golden                 137               NaN   \n",
       "3   778243826     True      golden                 136               NaN   \n",
       "4   778243827     True      golden                 138               NaN   \n",
       "5   778243828     True      golden                 140               NaN   \n",
       "6   778243831     True      golden                 142               NaN   \n",
       "7   778243832     True      golden                 151               NaN   \n",
       "8   778243833     True      golden                 143               NaN   \n",
       "9   778243834     True      golden                 136               NaN   \n",
       "10  778243835     True      golden                 152               NaN   \n",
       "11  778243836     True      golden                 157               NaN   \n",
       "12  778243837     True      golden                 143               NaN   \n",
       "13  778243838     True      golden                 140               NaN   \n",
       "14  778243839     True      golden                 136               NaN   \n",
       "15  778243840     True      golden                 147               NaN   \n",
       "16  778243841     True      golden                 147               NaN   \n",
       "17  778243842     True      golden                 132               NaN   \n",
       "18  778243843     True      golden                 144               NaN   \n",
       "19  778243844     True      golden                 147               NaN   \n",
       "20  778243845     True      golden                 136               NaN   \n",
       "21  778243846     True      golden                 151               NaN   \n",
       "22  778243847     True      golden                 124               NaN   \n",
       "23  778243848     True      golden                 140               NaN   \n",
       "\n",
       "      choose_one  choose_one:confidence         choose_one_gold keyword  \\\n",
       "0       Relevant                 1.0000                Relevant     NaN   \n",
       "1       Relevant                 1.0000                Relevant     NaN   \n",
       "2       Relevant                 1.0000                Relevant     NaN   \n",
       "3       Relevant                 0.9603                Relevant     NaN   \n",
       "4       Relevant                 1.0000                Relevant     NaN   \n",
       "5       Relevant                 1.0000                Relevant     NaN   \n",
       "6       Relevant                 1.0000                Relevant     NaN   \n",
       "7       Relevant                 1.0000                Relevant     NaN   \n",
       "8       Relevant                 1.0000                Relevant     NaN   \n",
       "9       Relevant                 0.9606  Relevant\\nCan't Decide     NaN   \n",
       "10      Relevant                 1.0000                Relevant     NaN   \n",
       "11      Relevant                 1.0000                Relevant     NaN   \n",
       "12      Relevant                 1.0000                Relevant     NaN   \n",
       "13      Relevant                 0.9607  Relevant\\nCan't Decide     NaN   \n",
       "14      Relevant                 0.9215                Relevant     NaN   \n",
       "15      Relevant                 0.7177  Relevant\\nCan't Decide     NaN   \n",
       "16      Relevant                 0.9603                Relevant     NaN   \n",
       "17      Relevant                 1.0000                Relevant     NaN   \n",
       "18      Relevant                 1.0000                Relevant     NaN   \n",
       "19      Relevant                 0.6761  Relevant\\nCan't Decide     NaN   \n",
       "20      Relevant                 1.0000                Relevant     NaN   \n",
       "21  Not Relevant                 0.9612            Not Relevant     NaN   \n",
       "22  Not Relevant                 1.0000            Not Relevant     NaN   \n",
       "23  Not Relevant                 1.0000            Not Relevant     NaN   \n",
       "\n",
       "   location                                               text  tweetid  \\\n",
       "0       NaN                 Just happened a terrible car crash      1.0   \n",
       "1       NaN  Our Deeds are the Reason of this #earthquake M...     13.0   \n",
       "2       NaN  Heard about #earthquake is different cities, s...     14.0   \n",
       "3       NaN  there is a forest fire at spot pond, geese are...     15.0   \n",
       "4       NaN             Forest fire near La Ronge Sask. Canada     16.0   \n",
       "5       NaN  All residents asked to 'shelter in place' are ...     17.0   \n",
       "6       NaN  13,000 people receive #wildfires evacuation or...     18.0   \n",
       "7       NaN  Just got sent this photo from Ruby #Alaska as ...     19.0   \n",
       "8       NaN  #RockyFire Update => California Hwy. 20 closed...     20.0   \n",
       "9       NaN           Apocalypse lighting. #Spokane #wildfires     21.0   \n",
       "10      NaN  #flood #disaster Heavy rain causes flash flood...     11.0   \n",
       "11      NaN      Typhoon Soudelor kills 28 in China and Taiwan     12.0   \n",
       "12      NaN                 We're shaking...It's an earthquake      2.0   \n",
       "13      NaN  I'm on top of the hill and I can see a fire in...      7.0   \n",
       "14      NaN  There's an emergency evacuation happening now ...      8.0   \n",
       "15      NaN  I'm afraid that the tornado is coming to our a...      9.0   \n",
       "16      NaN        Three people died from the heat wave so far     10.0   \n",
       "17      NaN  Haha South Tampa is getting flooded hah- WAIT ...     22.0   \n",
       "18      NaN  #raining #flooding #Florida #TampaBay #Tampa 1...     23.0   \n",
       "19      NaN            #Flood in Bago Myanmar #We arrived Bago     24.0   \n",
       "20      NaN  Damage to school bus on 80 in multi car crash ...     25.0   \n",
       "21      NaN  They'd probably still show more life than Arse...     26.0   \n",
       "22      NaN                                  Hey! How are you?     27.0   \n",
       "23      NaN                                     What's up man?     28.0   \n",
       "\n",
       "    userid  \n",
       "0      NaN  \n",
       "1      NaN  \n",
       "2      NaN  \n",
       "3      NaN  \n",
       "4      NaN  \n",
       "5      NaN  \n",
       "6      NaN  \n",
       "7      NaN  \n",
       "8      NaN  \n",
       "9      NaN  \n",
       "10     NaN  \n",
       "11     NaN  \n",
       "12     NaN  \n",
       "13     NaN  \n",
       "14     NaN  \n",
       "15     NaN  \n",
       "16     NaN  \n",
       "17     NaN  \n",
       "18     NaN  \n",
       "19     NaN  \n",
       "20     NaN  \n",
       "21     NaN  \n",
       "22     NaN  \n",
       "23     NaN  "
      ]
     },
     "execution_count": 16,
     "metadata": {},
     "output_type": "execute_result"
    }
   ],
   "source": [
    "original.head(24)"
   ]
  },
  {
   "cell_type": "code",
   "execution_count": 12,
   "metadata": {},
   "outputs": [],
   "source": [
    "train = pd.read_csv(\"../data/train.csv\")"
   ]
  },
  {
   "cell_type": "code",
   "execution_count": 6,
   "metadata": {},
   "outputs": [],
   "source": [
    "test = pd.read_csv(\"../data/test.csv\")"
   ]
  },
  {
   "cell_type": "code",
   "execution_count": 7,
   "metadata": {},
   "outputs": [
    {
     "data": {
      "text/html": [
       "<div>\n",
       "<style scoped>\n",
       "    .dataframe tbody tr th:only-of-type {\n",
       "        vertical-align: middle;\n",
       "    }\n",
       "\n",
       "    .dataframe tbody tr th {\n",
       "        vertical-align: top;\n",
       "    }\n",
       "\n",
       "    .dataframe thead th {\n",
       "        text-align: right;\n",
       "    }\n",
       "</style>\n",
       "<table border=\"1\" class=\"dataframe\">\n",
       "  <thead>\n",
       "    <tr style=\"text-align: right;\">\n",
       "      <th></th>\n",
       "      <th>id</th>\n",
       "      <th>keyword</th>\n",
       "      <th>location</th>\n",
       "      <th>text</th>\n",
       "    </tr>\n",
       "  </thead>\n",
       "  <tbody>\n",
       "    <tr>\n",
       "      <th>0</th>\n",
       "      <td>0</td>\n",
       "      <td>NaN</td>\n",
       "      <td>NaN</td>\n",
       "      <td>Just happened a terrible car crash</td>\n",
       "    </tr>\n",
       "    <tr>\n",
       "      <th>1</th>\n",
       "      <td>2</td>\n",
       "      <td>NaN</td>\n",
       "      <td>NaN</td>\n",
       "      <td>Heard about #earthquake is different cities, s...</td>\n",
       "    </tr>\n",
       "    <tr>\n",
       "      <th>2</th>\n",
       "      <td>3</td>\n",
       "      <td>NaN</td>\n",
       "      <td>NaN</td>\n",
       "      <td>there is a forest fire at spot pond, geese are...</td>\n",
       "    </tr>\n",
       "    <tr>\n",
       "      <th>3</th>\n",
       "      <td>9</td>\n",
       "      <td>NaN</td>\n",
       "      <td>NaN</td>\n",
       "      <td>Apocalypse lighting. #Spokane #wildfires</td>\n",
       "    </tr>\n",
       "    <tr>\n",
       "      <th>4</th>\n",
       "      <td>11</td>\n",
       "      <td>NaN</td>\n",
       "      <td>NaN</td>\n",
       "      <td>Typhoon Soudelor kills 28 in China and Taiwan</td>\n",
       "    </tr>\n",
       "  </tbody>\n",
       "</table>\n",
       "</div>"
      ],
      "text/plain": [
       "   id keyword location                                               text\n",
       "0   0     NaN      NaN                 Just happened a terrible car crash\n",
       "1   2     NaN      NaN  Heard about #earthquake is different cities, s...\n",
       "2   3     NaN      NaN  there is a forest fire at spot pond, geese are...\n",
       "3   9     NaN      NaN           Apocalypse lighting. #Spokane #wildfires\n",
       "4  11     NaN      NaN      Typhoon Soudelor kills 28 in China and Taiwan"
      ]
     },
     "execution_count": 7,
     "metadata": {},
     "output_type": "execute_result"
    }
   ],
   "source": [
    "test.head()"
   ]
  },
  {
   "cell_type": "markdown",
   "metadata": {},
   "source": [
    "As can be seen, the id in the train and test datasets match the row id of the original dataset"
   ]
  },
  {
   "cell_type": "code",
   "execution_count": 23,
   "metadata": {},
   "outputs": [],
   "source": [
    "test_truth = original.iloc[test['id'].to_list(), :] #[['choose_one']]"
   ]
  },
  {
   "cell_type": "markdown",
   "metadata": {},
   "source": [
    "Original tweets are labled as 'Relevant' / 'Not Relevant'. Change that to 1/0 label"
   ]
  },
  {
   "cell_type": "code",
   "execution_count": 50,
   "metadata": {},
   "outputs": [],
   "source": [
    "test_truth['target'] = test_truth.apply(lambda row: int(row['choose_one'] == 'Relevant'), axis=1)"
   ]
  },
  {
   "cell_type": "code",
   "execution_count": 31,
   "metadata": {},
   "outputs": [
    {
     "data": {
      "text/html": [
       "<div>\n",
       "<style scoped>\n",
       "    .dataframe tbody tr th:only-of-type {\n",
       "        vertical-align: middle;\n",
       "    }\n",
       "\n",
       "    .dataframe tbody tr th {\n",
       "        vertical-align: top;\n",
       "    }\n",
       "\n",
       "    .dataframe thead th {\n",
       "        text-align: right;\n",
       "    }\n",
       "</style>\n",
       "<table border=\"1\" class=\"dataframe\">\n",
       "  <thead>\n",
       "    <tr style=\"text-align: right;\">\n",
       "      <th></th>\n",
       "      <th>_unit_id</th>\n",
       "      <th>_golden</th>\n",
       "      <th>_unit_state</th>\n",
       "      <th>_trusted_judgments</th>\n",
       "      <th>_last_judgment_at</th>\n",
       "      <th>choose_one</th>\n",
       "      <th>choose_one:confidence</th>\n",
       "      <th>choose_one_gold</th>\n",
       "      <th>keyword</th>\n",
       "      <th>location</th>\n",
       "      <th>text</th>\n",
       "      <th>tweetid</th>\n",
       "      <th>userid</th>\n",
       "      <th>target</th>\n",
       "    </tr>\n",
       "  </thead>\n",
       "  <tbody>\n",
       "    <tr>\n",
       "      <th>0</th>\n",
       "      <td>778243823</td>\n",
       "      <td>True</td>\n",
       "      <td>golden</td>\n",
       "      <td>156</td>\n",
       "      <td>NaN</td>\n",
       "      <td>Relevant</td>\n",
       "      <td>1.0000</td>\n",
       "      <td>Relevant</td>\n",
       "      <td>NaN</td>\n",
       "      <td>NaN</td>\n",
       "      <td>Just happened a terrible car crash</td>\n",
       "      <td>1.0</td>\n",
       "      <td>NaN</td>\n",
       "      <td>1</td>\n",
       "    </tr>\n",
       "    <tr>\n",
       "      <th>2</th>\n",
       "      <td>778243825</td>\n",
       "      <td>True</td>\n",
       "      <td>golden</td>\n",
       "      <td>137</td>\n",
       "      <td>NaN</td>\n",
       "      <td>Relevant</td>\n",
       "      <td>1.0000</td>\n",
       "      <td>Relevant</td>\n",
       "      <td>NaN</td>\n",
       "      <td>NaN</td>\n",
       "      <td>Heard about #earthquake is different cities, s...</td>\n",
       "      <td>14.0</td>\n",
       "      <td>NaN</td>\n",
       "      <td>1</td>\n",
       "    </tr>\n",
       "    <tr>\n",
       "      <th>3</th>\n",
       "      <td>778243826</td>\n",
       "      <td>True</td>\n",
       "      <td>golden</td>\n",
       "      <td>136</td>\n",
       "      <td>NaN</td>\n",
       "      <td>Relevant</td>\n",
       "      <td>0.9603</td>\n",
       "      <td>Relevant</td>\n",
       "      <td>NaN</td>\n",
       "      <td>NaN</td>\n",
       "      <td>there is a forest fire at spot pond, geese are...</td>\n",
       "      <td>15.0</td>\n",
       "      <td>NaN</td>\n",
       "      <td>1</td>\n",
       "    </tr>\n",
       "    <tr>\n",
       "      <th>9</th>\n",
       "      <td>778243834</td>\n",
       "      <td>True</td>\n",
       "      <td>golden</td>\n",
       "      <td>136</td>\n",
       "      <td>NaN</td>\n",
       "      <td>Relevant</td>\n",
       "      <td>0.9606</td>\n",
       "      <td>Relevant\\nCan't Decide</td>\n",
       "      <td>NaN</td>\n",
       "      <td>NaN</td>\n",
       "      <td>Apocalypse lighting. #Spokane #wildfires</td>\n",
       "      <td>21.0</td>\n",
       "      <td>NaN</td>\n",
       "      <td>1</td>\n",
       "    </tr>\n",
       "    <tr>\n",
       "      <th>11</th>\n",
       "      <td>778243836</td>\n",
       "      <td>True</td>\n",
       "      <td>golden</td>\n",
       "      <td>157</td>\n",
       "      <td>NaN</td>\n",
       "      <td>Relevant</td>\n",
       "      <td>1.0000</td>\n",
       "      <td>Relevant</td>\n",
       "      <td>NaN</td>\n",
       "      <td>NaN</td>\n",
       "      <td>Typhoon Soudelor kills 28 in China and Taiwan</td>\n",
       "      <td>12.0</td>\n",
       "      <td>NaN</td>\n",
       "      <td>1</td>\n",
       "    </tr>\n",
       "  </tbody>\n",
       "</table>\n",
       "</div>"
      ],
      "text/plain": [
       "     _unit_id  _golden _unit_state  _trusted_judgments _last_judgment_at  \\\n",
       "0   778243823     True      golden                 156               NaN   \n",
       "2   778243825     True      golden                 137               NaN   \n",
       "3   778243826     True      golden                 136               NaN   \n",
       "9   778243834     True      golden                 136               NaN   \n",
       "11  778243836     True      golden                 157               NaN   \n",
       "\n",
       "   choose_one  choose_one:confidence         choose_one_gold keyword location  \\\n",
       "0    Relevant                 1.0000                Relevant     NaN      NaN   \n",
       "2    Relevant                 1.0000                Relevant     NaN      NaN   \n",
       "3    Relevant                 0.9603                Relevant     NaN      NaN   \n",
       "9    Relevant                 0.9606  Relevant\\nCan't Decide     NaN      NaN   \n",
       "11   Relevant                 1.0000                Relevant     NaN      NaN   \n",
       "\n",
       "                                                 text  tweetid  userid  target  \n",
       "0                  Just happened a terrible car crash      1.0     NaN       1  \n",
       "2   Heard about #earthquake is different cities, s...     14.0     NaN       1  \n",
       "3   there is a forest fire at spot pond, geese are...     15.0     NaN       1  \n",
       "9            Apocalypse lighting. #Spokane #wildfires     21.0     NaN       1  \n",
       "11      Typhoon Soudelor kills 28 in China and Taiwan     12.0     NaN       1  "
      ]
     },
     "execution_count": 31,
     "metadata": {},
     "output_type": "execute_result"
    }
   ],
   "source": [
    "test_truth.head()"
   ]
  },
  {
   "cell_type": "markdown",
   "metadata": {},
   "source": [
    "load the test set predictions by our model"
   ]
  },
  {
   "cell_type": "code",
   "execution_count": 34,
   "metadata": {},
   "outputs": [],
   "source": [
    "submission = pd.read_csv(\"../data/final_submission_double_lstm.csv\")"
   ]
  },
  {
   "cell_type": "code",
   "execution_count": 35,
   "metadata": {},
   "outputs": [
    {
     "data": {
      "text/html": [
       "<div>\n",
       "<style scoped>\n",
       "    .dataframe tbody tr th:only-of-type {\n",
       "        vertical-align: middle;\n",
       "    }\n",
       "\n",
       "    .dataframe tbody tr th {\n",
       "        vertical-align: top;\n",
       "    }\n",
       "\n",
       "    .dataframe thead th {\n",
       "        text-align: right;\n",
       "    }\n",
       "</style>\n",
       "<table border=\"1\" class=\"dataframe\">\n",
       "  <thead>\n",
       "    <tr style=\"text-align: right;\">\n",
       "      <th></th>\n",
       "      <th>id</th>\n",
       "      <th>target</th>\n",
       "    </tr>\n",
       "  </thead>\n",
       "  <tbody>\n",
       "    <tr>\n",
       "      <th>0</th>\n",
       "      <td>0</td>\n",
       "      <td>1</td>\n",
       "    </tr>\n",
       "    <tr>\n",
       "      <th>1</th>\n",
       "      <td>2</td>\n",
       "      <td>0</td>\n",
       "    </tr>\n",
       "    <tr>\n",
       "      <th>2</th>\n",
       "      <td>3</td>\n",
       "      <td>1</td>\n",
       "    </tr>\n",
       "    <tr>\n",
       "      <th>3</th>\n",
       "      <td>9</td>\n",
       "      <td>0</td>\n",
       "    </tr>\n",
       "    <tr>\n",
       "      <th>4</th>\n",
       "      <td>11</td>\n",
       "      <td>1</td>\n",
       "    </tr>\n",
       "  </tbody>\n",
       "</table>\n",
       "</div>"
      ],
      "text/plain": [
       "   id  target\n",
       "0   0       1\n",
       "1   2       0\n",
       "2   3       1\n",
       "3   9       0\n",
       "4  11       1"
      ]
     },
     "execution_count": 35,
     "metadata": {},
     "output_type": "execute_result"
    }
   ],
   "source": [
    "submission.head()"
   ]
  },
  {
   "cell_type": "code",
   "execution_count": 43,
   "metadata": {},
   "outputs": [],
   "source": [
    "submission[\"actual\"] = test_truth['target'].to_list()"
   ]
  },
  {
   "cell_type": "code",
   "execution_count": 44,
   "metadata": {},
   "outputs": [
    {
     "data": {
      "text/html": [
       "<div>\n",
       "<style scoped>\n",
       "    .dataframe tbody tr th:only-of-type {\n",
       "        vertical-align: middle;\n",
       "    }\n",
       "\n",
       "    .dataframe tbody tr th {\n",
       "        vertical-align: top;\n",
       "    }\n",
       "\n",
       "    .dataframe thead th {\n",
       "        text-align: right;\n",
       "    }\n",
       "</style>\n",
       "<table border=\"1\" class=\"dataframe\">\n",
       "  <thead>\n",
       "    <tr style=\"text-align: right;\">\n",
       "      <th></th>\n",
       "      <th>id</th>\n",
       "      <th>target</th>\n",
       "      <th>actual</th>\n",
       "    </tr>\n",
       "  </thead>\n",
       "  <tbody>\n",
       "    <tr>\n",
       "      <th>0</th>\n",
       "      <td>0</td>\n",
       "      <td>1</td>\n",
       "      <td>1</td>\n",
       "    </tr>\n",
       "    <tr>\n",
       "      <th>1</th>\n",
       "      <td>2</td>\n",
       "      <td>0</td>\n",
       "      <td>1</td>\n",
       "    </tr>\n",
       "    <tr>\n",
       "      <th>2</th>\n",
       "      <td>3</td>\n",
       "      <td>1</td>\n",
       "      <td>1</td>\n",
       "    </tr>\n",
       "    <tr>\n",
       "      <th>3</th>\n",
       "      <td>9</td>\n",
       "      <td>0</td>\n",
       "      <td>1</td>\n",
       "    </tr>\n",
       "    <tr>\n",
       "      <th>4</th>\n",
       "      <td>11</td>\n",
       "      <td>1</td>\n",
       "      <td>1</td>\n",
       "    </tr>\n",
       "    <tr>\n",
       "      <th>5</th>\n",
       "      <td>12</td>\n",
       "      <td>0</td>\n",
       "      <td>1</td>\n",
       "    </tr>\n",
       "    <tr>\n",
       "      <th>6</th>\n",
       "      <td>21</td>\n",
       "      <td>0</td>\n",
       "      <td>0</td>\n",
       "    </tr>\n",
       "    <tr>\n",
       "      <th>7</th>\n",
       "      <td>22</td>\n",
       "      <td>0</td>\n",
       "      <td>0</td>\n",
       "    </tr>\n",
       "    <tr>\n",
       "      <th>8</th>\n",
       "      <td>27</td>\n",
       "      <td>0</td>\n",
       "      <td>0</td>\n",
       "    </tr>\n",
       "    <tr>\n",
       "      <th>9</th>\n",
       "      <td>29</td>\n",
       "      <td>0</td>\n",
       "      <td>0</td>\n",
       "    </tr>\n",
       "    <tr>\n",
       "      <th>10</th>\n",
       "      <td>30</td>\n",
       "      <td>0</td>\n",
       "      <td>0</td>\n",
       "    </tr>\n",
       "    <tr>\n",
       "      <th>11</th>\n",
       "      <td>35</td>\n",
       "      <td>0</td>\n",
       "      <td>0</td>\n",
       "    </tr>\n",
       "  </tbody>\n",
       "</table>\n",
       "</div>"
      ],
      "text/plain": [
       "    id  target  actual\n",
       "0    0       1       1\n",
       "1    2       0       1\n",
       "2    3       1       1\n",
       "3    9       0       1\n",
       "4   11       1       1\n",
       "5   12       0       1\n",
       "6   21       0       0\n",
       "7   22       0       0\n",
       "8   27       0       0\n",
       "9   29       0       0\n",
       "10  30       0       0\n",
       "11  35       0       0"
      ]
     },
     "execution_count": 44,
     "metadata": {},
     "output_type": "execute_result"
    }
   ],
   "source": [
    "submission.head(12)"
   ]
  },
  {
   "cell_type": "markdown",
   "metadata": {},
   "source": [
    "Calculate the metrics on the test set"
   ]
  },
  {
   "cell_type": "code",
   "execution_count": 45,
   "metadata": {},
   "outputs": [],
   "source": [
    "predictions = submission['target']\n",
    "y_test = submission['actual']"
   ]
  },
  {
   "cell_type": "code",
   "execution_count": 48,
   "metadata": {},
   "outputs": [
    {
     "name": "stdout",
     "output_type": "stream",
     "text": [
      "Accuracy score:  0.7802635611400551\n",
      "Precision score:  0.5998573466476462\n",
      "Recall score:  0.843530591775326\n",
      "F1 score:  0.7011254689453938\n"
     ]
    }
   ],
   "source": [
    "print('Accuracy score: ', format(accuracy_score(predictions, y_test )))\n",
    "print('Precision score: ', format(precision_score(predictions, y_test)))\n",
    "print('Recall score: ', format(recall_score(predictions, y_test)))\n",
    "print('F1 score: ', format(f1_score(predictions, y_test)))"
   ]
  },
  {
   "cell_type": "markdown",
   "metadata": {},
   "source": [
    "As expected, the metrics are slighlty worse on the test set, but not by much. "
   ]
  },
  {
   "cell_type": "code",
   "execution_count": null,
   "metadata": {},
   "outputs": [],
   "source": []
  }
 ],
 "metadata": {
  "kernelspec": {
   "display_name": "Python 3",
   "language": "python",
   "name": "python3"
  },
  "language_info": {
   "codemirror_mode": {
    "name": "ipython",
    "version": 3
   },
   "file_extension": ".py",
   "mimetype": "text/x-python",
   "name": "python",
   "nbconvert_exporter": "python",
   "pygments_lexer": "ipython3",
   "version": "3.7.2"
  }
 },
 "nbformat": 4,
 "nbformat_minor": 1
}
