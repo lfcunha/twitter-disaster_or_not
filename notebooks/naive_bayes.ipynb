{
 "cells": [
  {
   "cell_type": "code",
   "execution_count": 102,
   "metadata": {},
   "outputs": [
    {
     "name": "stdout",
     "output_type": "stream",
     "text": [
      "The autoreload extension is already loaded. To reload it, use:\n",
      "  %reload_ext autoreload\n"
     ]
    }
   ],
   "source": [
    "%load_ext autoreload\n",
    "%autoreload 2\n",
    "\n",
    "from collections import Counter\n",
    "from inspect import signature\n",
    "import math\n",
    "import re\n",
    "import string\n",
    "\n",
    "import matplotlib.pyplot as plt\n",
    "from nltk.tokenize import sent_tokenize, word_tokenize \n",
    "from nltk.corpus import stopwords\n",
    "from nltk.tokenize import TweetTokenizer\n",
    "from nltk.stem.porter import PorterStemmer\n",
    "import numpy as np\n",
    "import pandas as pd\n",
    "import seaborn as sns\n",
    "from sklearn.feature_extraction.text import TfidfTransformer, CountVectorizer, TfidfVectorizer\n",
    "from sklearn.feature_extraction.text import CountVectorizer, TfidfTransformer\n",
    "from sklearn.metrics import (accuracy_score, precision_score, recall_score,\n",
    "                             f1_score, confusion_matrix, roc_curve, auc, precision_recall_curve,\n",
    "                             average_precision_score)\n",
    "from sklearn.pipeline import Pipeline\n",
    "from sklearn.model_selection import KFold\n",
    "from sklearn.model_selection import train_test_split\n",
    "from sklearn.naive_bayes import MultinomialNB\n",
    "\n",
    "%matplotlib inline\n",
    "sns.set()\n",
    "\n",
    "import warnings\n",
    "warnings.filterwarnings('ignore')\n",
    "\n",
    "import logging\n",
    "logger = logging.getLogger()\n",
    "logger.setLevel(logging.CRITICAL) # surpress base64 can't decode character message"
   ]
  },
  {
   "cell_type": "markdown",
   "metadata": {},
   "source": [
    "## Naive Bayes\n",
    "\n",
    "Naive Baeyes is a simple but efficient [probabilistic classifier](https://en.wikipedia.org/wiki/Naive_Bayes_classifier) (e.g. spam claissification of email). It is simple to implement and understand since it's based on counting things. It is based on applying bayes theorem, with strong independence assumptions between the features  (hence \"naive\").\n",
    "\n"
   ]
  },
  {
   "cell_type": "markdown",
   "metadata": {},
   "source": [
    "##### We'll build 4 models. Half using a bag of words representation, the other using TFIDF. We'll use these inputs for a naive bayes scikit implementation, and our own implementation."
   ]
  },
  {
   "cell_type": "markdown",
   "metadata": {},
   "source": [
    "---"
   ]
  },
  {
   "cell_type": "markdown",
   "metadata": {},
   "source": [
    "**load the data**"
   ]
  },
  {
   "cell_type": "code",
   "execution_count": 17,
   "metadata": {},
   "outputs": [],
   "source": [
    "sample_submission = pd.read_csv(\"../data/sample_submission.csv\")\n",
    "test_df = pd.read_csv(\"../data/test.csv\")\n",
    "train_df = pd.read_csv(\"../data/train.csv\")"
   ]
  },
  {
   "cell_type": "markdown",
   "metadata": {},
   "source": [
    "#### Clean the text"
   ]
  },
  {
   "cell_type": "code",
   "execution_count": 24,
   "metadata": {},
   "outputs": [],
   "source": [
    "table = str.maketrans('', '', string.punctuation)\n",
    "stop_words = stopwords.words('english')\n",
    "tknzr = TweetTokenizer(strip_handles=True, reduce_len=True)\n",
    "porter = PorterStemmer()\n",
    "\n",
    "\n",
    "emoji_pattern = re.compile(\"[\"\n",
    "                           u\"\\U0001F600-\\U0001F64F\"  # emoticons\n",
    "                           u\"\\U0001F300-\\U0001F5FF\"  # symbols & pictographs\n",
    "                           u\"\\U0001F680-\\U0001F6FF\"  # transport & map symbols\n",
    "                           u\"\\U0001F1E0-\\U0001F1FF\"  # flags (iOS)\n",
    "                           u\"\\U00002702-\\U000027B0\"\n",
    "                           u\"\\U000024C2-\\U0001F251\"\n",
    "                           \"]+\", flags=re.UNICODE)\n",
    "\n",
    "def clean_corpus(tweets):\n",
    "    tokens = [\" \".join(tknzr.tokenize(x)) for x in tweets]\n",
    "\n",
    "    stripped = [w.translate(table).lower() for w in tokens]\n",
    "\n",
    "    no_urls = [re.sub(r\"http\\S+\", \"\", x) for x in stripped]\n",
    "\n",
    "    no_html = [re.sub(r'<.*?>', \"\", x) for x in no_urls]\n",
    "\n",
    "    no_emoji = [emoji_pattern.sub(\"\", x) for x in no_html]\n",
    "\n",
    "    stopped = [[w for w in sent.split() if not w in stop_words] for sent in no_emoji]\n",
    "\n",
    "    stemmed = [[porter.stem(word) for word in tokens] for tokens in stopped]\n",
    "\n",
    "    return [\" \".join(words) for words in stemmed]\n",
    "\n",
    "train_corpus = clean_corpus(train_df[\"text\"].values)\n",
    "test_corpus = clean_corpus(test_df[\"text\"].values)\n",
    "corpus = train_corpus + test_corpus"
   ]
  },
  {
   "cell_type": "code",
   "execution_count": 133,
   "metadata": {},
   "outputs": [],
   "source": [
    "training_size=len(train_corpus)\n",
    "test_portion=.1\n",
    "# get the split point, that is the number of samples that will go into the test set\n",
    "split = int(test_portion * training_size)\n",
    "X_train = train_corpus[split:]\n",
    "X_test = train_corpus[:split]\n",
    "y_train = train_df[\"target\"].iloc[split:].to_list()\n",
    "y_test = train_df[\"target\"].iloc[:split].to_list()"
   ]
  },
  {
   "cell_type": "markdown",
   "metadata": {},
   "source": [
    "---"
   ]
  },
  {
   "cell_type": "markdown",
   "metadata": {},
   "source": [
    "### Model with Bag of Words text representation\n",
    "\n",
    "We must feed numeric data to our model, not text data. The text messages can be represented in different ways. The simplest is a bag of words, which is a frequency of the word (# of occurrences of word in dataset / total # words in dataset). Another is a TF-IDF representationm which reflects the importance of the word."
   ]
  },
  {
   "cell_type": "markdown",
   "metadata": {},
   "source": [
    "**create bag of words**"
   ]
  },
  {
   "cell_type": "code",
   "execution_count": 134,
   "metadata": {},
   "outputs": [],
   "source": [
    "count_vector = CountVectorizer(stop_words='english', lowercase=True)\n",
    "train_data = count_vector.fit_transform(X_train)\n",
    "test_data = count_vector.transform(X_test)"
   ]
  },
  {
   "cell_type": "markdown",
   "metadata": {},
   "source": [
    "**model**"
   ]
  },
  {
   "cell_type": "code",
   "execution_count": 41,
   "metadata": {},
   "outputs": [
    {
     "data": {
      "text/plain": [
       "MultinomialNB(alpha=1.0, class_prior=None, fit_prior=True)"
      ]
     },
     "execution_count": 41,
     "metadata": {},
     "output_type": "execute_result"
    }
   ],
   "source": [
    "naive_bayes = MultinomialNB()\n",
    "naive_bayes.fit(train_data, y_train)"
   ]
  },
  {
   "cell_type": "code",
   "execution_count": 42,
   "metadata": {},
   "outputs": [],
   "source": [
    "predictions = naive_bayes.predict(test_data)"
   ]
  },
  {
   "cell_type": "code",
   "execution_count": 177,
   "metadata": {},
   "outputs": [
    {
     "name": "stdout",
     "output_type": "stream",
     "text": [
      "Accuracy score: 0.77\n",
      "Precision score: 0.63\n",
      "Recall score: 0.78\n",
      "F1 score: 0.70\n"
     ]
    }
   ],
   "source": [
    "print(f'Accuracy score: {accuracy_score(predictions, y_test):.2f}' )\n",
    "print(f'Precision score: {precision_score(predictions, y_test):.2f}')\n",
    "print(f'Recall score: {recall_score(predictions, y_test):.2f}')\n",
    "print(f'F1 score: {f1_score(predictions, y_test):.2f}')"
   ]
  },
  {
   "cell_type": "code",
   "execution_count": 44,
   "metadata": {},
   "outputs": [
    {
     "data": {
      "text/plain": [
       "array([[366, 113],\n",
       "       [ 81, 201]])"
      ]
     },
     "execution_count": 44,
     "metadata": {},
     "output_type": "execute_result"
    }
   ],
   "source": [
    "confusion_matrix(y_test, predictions)"
   ]
  },
  {
   "cell_type": "markdown",
   "metadata": {},
   "source": [
    "The model does a better job picking correctly true disaster tweets than it does understanding that non-disaster tweets are in fact so."
   ]
  },
  {
   "cell_type": "code",
   "execution_count": 52,
   "metadata": {},
   "outputs": [],
   "source": [
    "def plot_confusion_matrix(y_test, predictions):\n",
    "    labels = [0, 1]\n",
    "    cm = confusion_matrix(y_test, predictions, labels)\n",
    "\n",
    "    labels = [\"disaster\", \"not disaster\"]\n",
    "    fig = plt.figure()\n",
    "    ax = fig.add_subplot(111)\n",
    "    cax = ax.matshow(cm)\n",
    "    plt.title('Confusion matrix of the classifier')\n",
    "    fig.colorbar(cax)\n",
    "    ax.set_xticklabels([''] + labels)\n",
    "    ax.set_yticklabels([''] + labels)\n",
    "    plt.xlabel('Predicted')\n",
    "    plt.ylabel('True')\n",
    "    plt.show()"
   ]
  },
  {
   "cell_type": "code",
   "execution_count": 53,
   "metadata": {},
   "outputs": [
    {
     "data": {
      "image/png": "[encoded data removed]",
      "text/plain": [
       "<Figure size 432x288 with 2 Axes>"
      ]
     },
     "metadata": {},
     "output_type": "display_data"
    }
   ],
   "source": [
    "plot_confusion_matrix(y_test, predictions)"
   ]
  },
  {
   "cell_type": "markdown",
   "metadata": {},
   "source": [
    "The model It also makes more mistakes by classifying disaster tweets as non-disaster"
   ]
  },
  {
   "cell_type": "code",
   "execution_count": 55,
   "metadata": {},
   "outputs": [
    {
     "data": {
      "text/plain": [
       "[<matplotlib.lines.Line2D at 0x12ded8e10>]"
      ]
     },
     "execution_count": 55,
     "metadata": {},
     "output_type": "execute_result"
    },
    {
     "data": {
      "image/png": "[encoded data removed]",
      "text/plain": [
       "<Figure size 432x288 with 1 Axes>"
      ]
     },
     "metadata": {},
     "output_type": "display_data"
    }
   ],
   "source": [
    "fpr, tpr, thresholds = roc_curve(np.array(y_test), predictions, pos_label=1)\n",
    "roc_auc = auc(fpr, tpr)\n",
    "plt.plot(fpr, tpr, color='b',\n",
    "         label=r'Mean ROC (AUC = %0.2f)' % (roc_auc),\n",
    "         lw=2, alpha=.8)"
   ]
  },
  {
   "cell_type": "markdown",
   "metadata": {},
   "source": [
    "After about 65% True positive rate the model starts making a lot more false positive classifications for each increament in correct positive classification"
   ]
  },
  {
   "cell_type": "code",
   "execution_count": 56,
   "metadata": {},
   "outputs": [],
   "source": [
    "precision, recall, _ = precision_recall_curve(y_test, predictions)"
   ]
  },
  {
   "cell_type": "code",
   "execution_count": 57,
   "metadata": {},
   "outputs": [],
   "source": [
    "average_precision = average_precision_score(y_test, predictions)"
   ]
  },
  {
   "cell_type": "code",
   "execution_count": 60,
   "metadata": {},
   "outputs": [
    {
     "name": "stdout",
     "output_type": "stream",
     "text": [
      "\n"
     ]
    },
    {
     "data": {
      "image/png": "[encoded data removed]",
      "text/plain": [
       "<Figure size 432x288 with 1 Axes>"
      ]
     },
     "metadata": {},
     "output_type": "display_data"
    }
   ],
   "source": [
    "# In matplotlib < 1.5, plt.fill_between does not have a 'step' argument\n",
    "step_kwargs = ({'step': 'post'}\n",
    "               if 'step' in signature(plt.fill_between).parameters\n",
    "               else {})\n",
    "plt.step(recall, precision, color='b', alpha=0.2,\n",
    "         where='post')\n",
    "plt.fill_between(recall, precision, alpha=0.2, color='b', **step_kwargs)\n",
    "\n",
    "plt.xlabel('Recall')\n",
    "plt.ylabel('Precision')\n",
    "plt.ylim([0.0, 1.05])\n",
    "plt.xlim([0.0, 1.0])\n",
    "plt.title('2-class Precision-Recall curve: AP={0:0.2f}'.format(\n",
    "          average_precision))\n",
    "print(\"\")"
   ]
  },
  {
   "cell_type": "markdown",
   "metadata": {},
   "source": [
    "Above 70% recall, the model's precision decreases significantly"
   ]
  },
  {
   "cell_type": "markdown",
   "metadata": {},
   "source": [
    "### Model with TF-IDF text representation \n",
    "\n",
    "Lets evaluate if we can get better performance by using a different word representation: The importance of the word instead of its frequency.\n",
    "\n",
    "TF-IDF stands for term frequency inverse document frequency. Words are more relevant if they are frequent in a single document, but rare overrall, and are penalized if they are frequent in the whole corpus (e.g \"The\")\n"
   ]
  },
  {
   "cell_type": "code",
   "execution_count": 61,
   "metadata": {},
   "outputs": [],
   "source": [
    "pipeline = Pipeline([\n",
    "    ('vect', CountVectorizer(stop_words='english', lowercase=True)),\n",
    "    ('tfidf', TfidfTransformer(use_idf=True, smooth_idf=True)),\n",
    "    ('clf', MultinomialNB(alpha=1))\n",
    "])"
   ]
  },
  {
   "cell_type": "code",
   "execution_count": 62,
   "metadata": {},
   "outputs": [
    {
     "data": {
      "text/plain": [
       "Pipeline(memory=None,\n",
       "         steps=[('vect',\n",
       "                 CountVectorizer(analyzer='word', binary=False,\n",
       "                                 decode_error='strict',\n",
       "                                 dtype=<class 'numpy.int64'>, encoding='utf-8',\n",
       "                                 input='content', lowercase=True, max_df=1.0,\n",
       "                                 max_features=None, min_df=1,\n",
       "                                 ngram_range=(1, 1), preprocessor=None,\n",
       "                                 stop_words='english', strip_accents=None,\n",
       "                                 token_pattern='(?u)\\\\b\\\\w\\\\w+\\\\b',\n",
       "                                 tokenizer=None, vocabulary=None)),\n",
       "                ('tfidf',\n",
       "                 TfidfTransformer(norm='l2', smooth_idf=True,\n",
       "                                  sublinear_tf=False, use_idf=True)),\n",
       "                ('clf',\n",
       "                 MultinomialNB(alpha=1, class_prior=None, fit_prior=True))],\n",
       "         verbose=False)"
      ]
     },
     "execution_count": 62,
     "metadata": {},
     "output_type": "execute_result"
    }
   ],
   "source": [
    "pipeline.fit(X_train, y_train)"
   ]
  },
  {
   "cell_type": "code",
   "execution_count": 63,
   "metadata": {},
   "outputs": [],
   "source": [
    "predictions = pipeline.predict(X_test)"
   ]
  },
  {
   "cell_type": "code",
   "execution_count": 179,
   "metadata": {},
   "outputs": [
    {
     "name": "stdout",
     "output_type": "stream",
     "text": [
      "Accuracy score: 0.77\n",
      "Precision score: 0.63\n",
      "Recall score: 0.78\n",
      "F1 score: 0.70\n"
     ]
    }
   ],
   "source": [
    "print(f'Accuracy score: {accuracy_score(predictions, y_test):.2f}' )\n",
    "print(f'Precision score: {precision_score(predictions, y_test):.2f}')\n",
    "print(f'Recall score: {recall_score(predictions, y_test):.2f}')\n",
    "print(f'F1 score: {f1_score(predictions, y_test):.2f}')"
   ]
  },
  {
   "cell_type": "code",
   "execution_count": 65,
   "metadata": {},
   "outputs": [
    {
     "data": {
      "text/plain": [
       "[<matplotlib.lines.Line2D at 0x12d703048>]"
      ]
     },
     "execution_count": 65,
     "metadata": {},
     "output_type": "execute_result"
    },
    {
     "data": {
      "image/png": "[encoded data removed]",
      "text/plain": [
       "<Figure size 432x288 with 1 Axes>"
      ]
     },
     "metadata": {},
     "output_type": "display_data"
    }
   ],
   "source": [
    "fpr, tpr, thresholds = roc_curve(np.array(y_test), predictions, pos_label=1)\n",
    "roc_auc = auc(fpr, tpr)\n",
    "plt.plot(fpr, tpr, color='b',\n",
    "         label=r'Mean ROC (AUC = %0.2f)' % (roc_auc),\n",
    "         lw=2, alpha=.8)"
   ]
  },
  {
   "cell_type": "markdown",
   "metadata": {},
   "source": [
    "The ROC curve seems to be slightly worst with a TF-IDF representaion"
   ]
  },
  {
   "cell_type": "markdown",
   "metadata": {},
   "source": [
    "## Our very own implementation of NB\n",
    "We'll implement a binary naive bayes because we're dealing with category data with two categories. If we had numeric data we could assume it is normally distributed and implemented a Gaussian naive bayes. The process is very similar\n",
    "https://pythonmachinelearning.pro/text-classification-tutorial-with-naive-bayes/\n",
    "\n",
    "\n",
    "\n",
    "\n"
   ]
  },
  {
   "cell_type": "code",
   "execution_count": 127,
   "metadata": {},
   "outputs": [],
   "source": [
    "class NaiveBayes:\n",
    "    \"\"\"Implementation of Naive Bayes for binary classification\n",
    "    \n",
    "    pos: refers to positive class (e.g. label = 1, spam)\n",
    "    neg: refers to negative class (e.g. label = 0, not spam)\n",
    "    \n",
    "    \"\"\"\n",
    "    def __init__(self):\n",
    "        self.num_messages = {}\n",
    "        self.log_class_priors = {}\n",
    "        self.word_counts = {}\n",
    "        self.vocab = set()\n",
    "    \n",
    "    def clean(self, s):\n",
    "        translator = str.maketrans(\"\", \"\", string.punctuation)\n",
    "        return s.translate(translator)\n",
    "\n",
    "    def tokenize(self, text):\n",
    "        text = self.clean(text).lower()\n",
    "        return re.split(\"\\W+\", text)\n",
    "\n",
    "    def get_word_counts(self, words):\n",
    "        word_counts = Counter()\n",
    "        for word in words:\n",
    "            word_counts[word] += 1\n",
    "        return word_counts\n",
    "    \n",
    "    def fit(self, X, Y):\n",
    "\n",
    "        n = len(X)\n",
    "        self.num_messages['pos'] = sum(Y)\n",
    "        self.num_messages['neg'] = len(Y) - self.num_messages['pos']\n",
    "        self.log_class_priors['pos'] = math.log(self.num_messages['pos'] / n)\n",
    "        self.log_class_priors['neg'] = math.log(self.num_messages['neg'] / n)\n",
    "        self.word_counts['pos'] = {}\n",
    "        self.word_counts['neg'] = {}\n",
    "\n",
    "        for x, y in zip(X, Y):  # for each document\n",
    "            c = 'pos' if y == 1 else 'neg'\n",
    "            counts = self.get_word_counts(self.tokenize(x))\n",
    "            for word, count in counts.items():  # for each word in the doc\n",
    "                if word not in self.vocab:\n",
    "                    self.vocab.add(word)\n",
    "                if word not in self.word_counts[c]:\n",
    "                    self.word_counts[c][word] = 0.0\n",
    "\n",
    "                self.word_counts[c][word] += count\n",
    "                \n",
    "    def predict(self, X):\n",
    "        result = []\n",
    "        for x in X:\n",
    "            counts = self.get_word_counts(self.tokenize(x))\n",
    "            pos_score = 0\n",
    "            neg_score = 0\n",
    "            for word, _ in counts.items():\n",
    "                if word not in self.vocab: continue\n",
    "\n",
    "                # add Laplace smoothing (add 1 to the word count to handle cases when the word is not present)\n",
    "                log_w_given_pos = math.log( (self.word_counts['pos'].get(word, 0.0) + 1) / (self.num_messages['pos'] + len(self.vocab)) )\n",
    "                log_w_given_neg = math.log( (self.word_counts['neg'].get(word, 0.0) + 1) / (self.num_messages['neg'] + len(self.vocab)) )\n",
    "\n",
    "                pos_score += log_w_given_pos\n",
    "                neg_score += log_w_given_neg\n",
    "\n",
    "            pos_score += self.log_class_priors['pos']\n",
    "            neg_score += self.log_class_priors['neg']\n",
    "\n",
    "            if pos_score > neg_score:\n",
    "                result.append(1)\n",
    "            else:\n",
    "                result.append(0)\n",
    "        return result"
   ]
  },
  {
   "cell_type": "code",
   "execution_count": 128,
   "metadata": {},
   "outputs": [],
   "source": [
    "nb = NaiveBayes()"
   ]
  },
  {
   "cell_type": "code",
   "execution_count": 129,
   "metadata": {},
   "outputs": [],
   "source": [
    "nb.fit(X_train, y_train)"
   ]
  },
  {
   "cell_type": "code",
   "execution_count": 130,
   "metadata": {},
   "outputs": [],
   "source": [
    "predictions = nb.predict(X_test)"
   ]
  },
  {
   "cell_type": "code",
   "execution_count": 178,
   "metadata": {},
   "outputs": [
    {
     "name": "stdout",
     "output_type": "stream",
     "text": [
      "Accuracy score: 0.77\n",
      "Precision score: 0.63\n",
      "Recall score: 0.78\n",
      "F1 score: 0.70\n"
     ]
    }
   ],
   "source": [
    "print(f'Accuracy score: {accuracy_score(predictions, y_test):.2f}' )\n",
    "print(f'Precision score: {precision_score(predictions, y_test):.2f}')\n",
    "print(f'Recall score: {recall_score(predictions, y_test):.2f}')\n",
    "print(f'F1 score: {f1_score(predictions, y_test):.2f}')"
   ]
  },
  {
   "cell_type": "markdown",
   "metadata": {},
   "source": [
    "### Calculate the metrics on the test set.\n",
    "Use true label from original [dataset](https://www.figure-eight.com/data-for-everyone/)"
   ]
  },
  {
   "cell_type": "code",
   "execution_count": 166,
   "metadata": {},
   "outputs": [],
   "source": [
    "original = pd.read_csv(\"../data/original.csv\")"
   ]
  },
  {
   "cell_type": "code",
   "execution_count": 167,
   "metadata": {},
   "outputs": [],
   "source": [
    "test = pd.read_csv(\"../data/test.csv\")"
   ]
  },
  {
   "cell_type": "code",
   "execution_count": 168,
   "metadata": {},
   "outputs": [],
   "source": [
    "test_truth = original.iloc[test['id'].to_list(), :] #[['choose_one']]\n",
    "test_truth['target'] = test_truth.apply(lambda row: int(row['choose_one'] == 'Relevant'), axis=1)"
   ]
  },
  {
   "cell_type": "code",
   "execution_count": 169,
   "metadata": {},
   "outputs": [],
   "source": [
    "predictions = nb.predict(test[\"text\"])"
   ]
  },
  {
   "cell_type": "code",
   "execution_count": 170,
   "metadata": {},
   "outputs": [],
   "source": [
    "submission = pd.DataFrame({'id' : test['id'], 'target' : predictions})"
   ]
  },
  {
   "cell_type": "code",
   "execution_count": 171,
   "metadata": {},
   "outputs": [],
   "source": [
    "submission[\"actual\"] = test_truth['target'].to_list()"
   ]
  },
  {
   "cell_type": "code",
   "execution_count": 172,
   "metadata": {},
   "outputs": [],
   "source": [
    "predictions = submission['target']\n",
    "y_test = submission['actual']"
   ]
  },
  {
   "cell_type": "code",
   "execution_count": 176,
   "metadata": {},
   "outputs": [
    {
     "name": "stdout",
     "output_type": "stream",
     "text": [
      "Accuracy score: 0.77\n",
      "Precision score: 0.63\n",
      "Recall score: 0.78\n",
      "F1 score: 0.70\n"
     ]
    }
   ],
   "source": [
    "print(f'Accuracy score: {accuracy_score(predictions, y_test):.2f}' )\n",
    "print(f'Precision score: {precision_score(predictions, y_test):.2f}')\n",
    "print(f'Recall score: {recall_score(predictions, y_test):.2f}')\n",
    "print(f'F1 score: {f1_score(predictions, y_test):.2f}')"
   ]
  },
  {
   "cell_type": "markdown",
   "metadata": {},
   "source": [
    "---"
   ]
  },
  {
   "cell_type": "markdown",
   "metadata": {},
   "source": [
    "### Conclusion\n",
    "\n",
    "**We obtained the same performance using bag of words or TF-IDF, and using scikit's vs our implementation of NB**\n",
    "\n",
    "**The performance on the holdout test set is very similar to the validation set**\n",
    "\n",
    "**These metrics are very close the ones obtained with LSTMs and 1D convolutions and word embeddings**\n",
    "It may be that we don't have enough data to properly train a LSTM"
   ]
  },
  {
   "cell_type": "markdown",
   "metadata": {},
   "source": [
    "---"
   ]
  }
 ],
 "metadata": {
  "kernelspec": {
   "display_name": "Python 3",
   "language": "python",
   "name": "python3"
  },
  "language_info": {
   "codemirror_mode": {
    "name": "ipython",
    "version": 3
   },
   "file_extension": ".py",
   "mimetype": "text/x-python",
   "name": "python",
   "nbconvert_exporter": "python",
   "pygments_lexer": "ipython3",
   "version": "3.7.2"
  }
 },
 "nbformat": 4,
 "nbformat_minor": 2
}
